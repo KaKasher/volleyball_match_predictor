{
 "cells": [
  {
   "cell_type": "code",
   "execution_count": 271,
   "metadata": {
    "collapsed": true
   },
   "outputs": [],
   "source": [
    "import pandas as pd"
   ]
  },
  {
   "cell_type": "code",
   "execution_count": 272,
   "outputs": [],
   "source": [
    "df = pd.read_csv('../data/processed/Mens-Volleyball-PlusLiga-2008-2023.csv')"
   ],
   "metadata": {
    "collapsed": false
   }
  },
  {
   "cell_type": "code",
   "execution_count": 273,
   "outputs": [
    {
     "data": {
      "text/plain": "                Date              Team_1                  Team_2  T1_Score  \\\n0  01.10.2022, 14:45         AZS Olsztyn  ZAKSA Kędzierzyn-Koźle         1   \n1  30.09.2022, 17:30  Jastrzębski Węgiel            GKS Katowice         3   \n2  01.10.2022, 20:30         LUK  Lublin            Czarni Radom         2   \n3  02.10.2022, 14:45     Warta Zawiercie      PGE Skra Bełchatów         3   \n4  03.10.2022, 17:30  BBTS Bielsko-Biała            Cuprum Lubin         1   \n\n   T2_Score  T1_Sum  T1_BP  T1_Ratio  T1_Srv_Sum T1_Srv_Err  ...  T2_Rec_Perf  \\\n0         3    60.0   17.0      11.0        79.0         18  ...          26%   \n1         0    51.0   17.0      27.0        77.0         15  ...          20%   \n2         3    76.0   23.0      35.0       109.0         16  ...          18%   \n3         2    66.0   16.0      22.0        98.0         21  ...           9%   \n4         3    63.0   22.0      17.0       100.0         19  ...          22%   \n\n  T2_Att_Sum  T2_Att_Err  T2_Att_Blk T2_Att_Kill T2_Att_Kill_Perc T2_Att_Eff  \\\n0         88           7           7          45              51%        35%   \n1         91           8           4          43              47%        34%   \n2        128          10          10          63              49%        33%   \n3        102           9           9          56              54%        37%   \n4        109           7           8          58              53%        39%   \n\n   T2_Blk_Sum  T2_Blk_As  Winner  \n0          14         11       1  \n1           1         17       0  \n2          10         13       1  \n3           7         14       0  \n4          10         10       1  \n\n[5 rows x 44 columns]",
      "text/html": "<div>\n<style scoped>\n    .dataframe tbody tr th:only-of-type {\n        vertical-align: middle;\n    }\n\n    .dataframe tbody tr th {\n        vertical-align: top;\n    }\n\n    .dataframe thead th {\n        text-align: right;\n    }\n</style>\n<table border=\"1\" class=\"dataframe\">\n  <thead>\n    <tr style=\"text-align: right;\">\n      <th></th>\n      <th>Date</th>\n      <th>Team_1</th>\n      <th>Team_2</th>\n      <th>T1_Score</th>\n      <th>T2_Score</th>\n      <th>T1_Sum</th>\n      <th>T1_BP</th>\n      <th>T1_Ratio</th>\n      <th>T1_Srv_Sum</th>\n      <th>T1_Srv_Err</th>\n      <th>...</th>\n      <th>T2_Rec_Perf</th>\n      <th>T2_Att_Sum</th>\n      <th>T2_Att_Err</th>\n      <th>T2_Att_Blk</th>\n      <th>T2_Att_Kill</th>\n      <th>T2_Att_Kill_Perc</th>\n      <th>T2_Att_Eff</th>\n      <th>T2_Blk_Sum</th>\n      <th>T2_Blk_As</th>\n      <th>Winner</th>\n    </tr>\n  </thead>\n  <tbody>\n    <tr>\n      <th>0</th>\n      <td>01.10.2022, 14:45</td>\n      <td>AZS Olsztyn</td>\n      <td>ZAKSA Kędzierzyn-Koźle</td>\n      <td>1</td>\n      <td>3</td>\n      <td>60.0</td>\n      <td>17.0</td>\n      <td>11.0</td>\n      <td>79.0</td>\n      <td>18</td>\n      <td>...</td>\n      <td>26%</td>\n      <td>88</td>\n      <td>7</td>\n      <td>7</td>\n      <td>45</td>\n      <td>51%</td>\n      <td>35%</td>\n      <td>14</td>\n      <td>11</td>\n      <td>1</td>\n    </tr>\n    <tr>\n      <th>1</th>\n      <td>30.09.2022, 17:30</td>\n      <td>Jastrzębski Węgiel</td>\n      <td>GKS Katowice</td>\n      <td>3</td>\n      <td>0</td>\n      <td>51.0</td>\n      <td>17.0</td>\n      <td>27.0</td>\n      <td>77.0</td>\n      <td>15</td>\n      <td>...</td>\n      <td>20%</td>\n      <td>91</td>\n      <td>8</td>\n      <td>4</td>\n      <td>43</td>\n      <td>47%</td>\n      <td>34%</td>\n      <td>1</td>\n      <td>17</td>\n      <td>0</td>\n    </tr>\n    <tr>\n      <th>2</th>\n      <td>01.10.2022, 20:30</td>\n      <td>LUK  Lublin</td>\n      <td>Czarni Radom</td>\n      <td>2</td>\n      <td>3</td>\n      <td>76.0</td>\n      <td>23.0</td>\n      <td>35.0</td>\n      <td>109.0</td>\n      <td>16</td>\n      <td>...</td>\n      <td>18%</td>\n      <td>128</td>\n      <td>10</td>\n      <td>10</td>\n      <td>63</td>\n      <td>49%</td>\n      <td>33%</td>\n      <td>10</td>\n      <td>13</td>\n      <td>1</td>\n    </tr>\n    <tr>\n      <th>3</th>\n      <td>02.10.2022, 14:45</td>\n      <td>Warta Zawiercie</td>\n      <td>PGE Skra Bełchatów</td>\n      <td>3</td>\n      <td>2</td>\n      <td>66.0</td>\n      <td>16.0</td>\n      <td>22.0</td>\n      <td>98.0</td>\n      <td>21</td>\n      <td>...</td>\n      <td>9%</td>\n      <td>102</td>\n      <td>9</td>\n      <td>9</td>\n      <td>56</td>\n      <td>54%</td>\n      <td>37%</td>\n      <td>7</td>\n      <td>14</td>\n      <td>0</td>\n    </tr>\n    <tr>\n      <th>4</th>\n      <td>03.10.2022, 17:30</td>\n      <td>BBTS Bielsko-Biała</td>\n      <td>Cuprum Lubin</td>\n      <td>1</td>\n      <td>3</td>\n      <td>63.0</td>\n      <td>22.0</td>\n      <td>17.0</td>\n      <td>100.0</td>\n      <td>19</td>\n      <td>...</td>\n      <td>22%</td>\n      <td>109</td>\n      <td>7</td>\n      <td>8</td>\n      <td>58</td>\n      <td>53%</td>\n      <td>39%</td>\n      <td>10</td>\n      <td>10</td>\n      <td>1</td>\n    </tr>\n  </tbody>\n</table>\n<p>5 rows × 44 columns</p>\n</div>"
     },
     "execution_count": 273,
     "metadata": {},
     "output_type": "execute_result"
    }
   ],
   "source": [
    "df.head()"
   ],
   "metadata": {
    "collapsed": false
   }
  },
  {
   "cell_type": "code",
   "execution_count": 274,
   "outputs": [
    {
     "data": {
      "text/plain": "Date                 object\nTeam_1               object\nTeam_2               object\nT1_Score              int64\nT2_Score              int64\nT1_Sum              float64\nT1_BP               float64\nT1_Ratio            float64\nT1_Srv_Sum          float64\nT1_Srv_Err           object\nT1_Srv_Ace          float64\nT1_Srv_Eff           object\nT1_Rec_Sum          float64\nT1_Rec_Err          float64\nT1_Rec_Pos           object\nT1_Rec_Perf          object\nT1_Att_Sum           object\nT1_Att_Err          float64\nT1_Att_Blk          float64\nT1_Att_Kill         float64\nT1_Att_Kill_Perc     object\nT1_Att_Eff           object\nT1_Blk_Sum          float64\nT1_Blk_As            object\nT2_Sum                int64\nT2_BP                 int64\nT2_Ratio              int64\nT2_Srv_Sum            int64\nT2_Srv_Err           object\nT2_Srv_Ace            int64\nT2_Srv_Eff           object\nT2_Rec_Sum            int64\nT2_Rec_Err            int64\nT2_Rec_Pos           object\nT2_Rec_Perf          object\nT2_Att_Sum           object\nT2_Att_Err            int64\nT2_Att_Blk            int64\nT2_Att_Kill           int64\nT2_Att_Kill_Perc     object\nT2_Att_Eff           object\nT2_Blk_Sum            int64\nT2_Blk_As            object\nWinner                int64\ndtype: object"
     },
     "execution_count": 274,
     "metadata": {},
     "output_type": "execute_result"
    }
   ],
   "source": [
    "df.dtypes"
   ],
   "metadata": {
    "collapsed": false
   }
  },
  {
   "cell_type": "code",
   "execution_count": 275,
   "outputs": [],
   "source": [
    "df['Date'] = pd.to_datetime(df['Date'], format='%d.%m.%Y, %H:%M')"
   ],
   "metadata": {
    "collapsed": false
   }
  },
  {
   "cell_type": "code",
   "execution_count": 276,
   "outputs": [],
   "source": [
    "# Take care of the percentages\n",
    "perc_cols = ['T1_Srv_Eff', 'T1_Rec_Pos', 'T1_Rec_Perf', 'T1_Att_Kill_Perc', 'T1_Att_Eff', 'T1_Att_Sum', 'T2_Srv_Eff', 'T2_Rec_Pos', 'T2_Rec_Perf', 'T2_Att_Kill_Perc', 'T2_Att_Eff', 'T2_Att_Sum']\n",
    "for col in perc_cols:\n",
    "    df[col] = pd.to_numeric(df[col].str.replace('%', ''))"
   ],
   "metadata": {
    "collapsed": false
   }
  },
  {
   "cell_type": "code",
   "execution_count": 277,
   "outputs": [],
   "source": [
    "# Some values use ',' instead of '.' when representing a float\n",
    "float_cols = ['T1_Srv_Err', 'T1_Blk_As', 'T2_Srv_Err', 'T2_Blk_As']\n",
    "for col in float_cols:\n",
    "    df[col] = pd.to_numeric(df[col].str.replace(',', '.'))"
   ],
   "metadata": {
    "collapsed": false
   }
  },
  {
   "cell_type": "code",
   "execution_count": 278,
   "outputs": [
    {
     "data": {
      "text/plain": "Date                datetime64[ns]\nTeam_1                      object\nTeam_2                      object\nT1_Score                     int64\nT2_Score                     int64\nT1_Sum                     float64\nT1_BP                      float64\nT1_Ratio                   float64\nT1_Srv_Sum                 float64\nT1_Srv_Err                 float64\nT1_Srv_Ace                 float64\nT1_Srv_Eff                   int64\nT1_Rec_Sum                 float64\nT1_Rec_Err                 float64\nT1_Rec_Pos                   int64\nT1_Rec_Perf                  int64\nT1_Att_Sum                   int64\nT1_Att_Err                 float64\nT1_Att_Blk                 float64\nT1_Att_Kill                float64\nT1_Att_Kill_Perc             int64\nT1_Att_Eff                   int64\nT1_Blk_Sum                 float64\nT1_Blk_As                  float64\nT2_Sum                       int64\nT2_BP                        int64\nT2_Ratio                     int64\nT2_Srv_Sum                   int64\nT2_Srv_Err                 float64\nT2_Srv_Ace                   int64\nT2_Srv_Eff                   int64\nT2_Rec_Sum                   int64\nT2_Rec_Err                   int64\nT2_Rec_Pos                   int64\nT2_Rec_Perf                  int64\nT2_Att_Sum                   int64\nT2_Att_Err                   int64\nT2_Att_Blk                   int64\nT2_Att_Kill                  int64\nT2_Att_Kill_Perc             int64\nT2_Att_Eff                   int64\nT2_Blk_Sum                   int64\nT2_Blk_As                  float64\nWinner                       int64\ndtype: object"
     },
     "execution_count": 278,
     "metadata": {},
     "output_type": "execute_result"
    }
   ],
   "source": [
    "df.dtypes"
   ],
   "metadata": {
    "collapsed": false
   }
  },
  {
   "cell_type": "code",
   "execution_count": 279,
   "outputs": [
    {
     "data": {
      "text/plain": "                 Date              Team_1                  Team_2  T1_Score  \\\n0 2008-10-10 18:00:00         AZS Olsztyn             Jadar Radom         3   \n1 2008-10-11 15:00:00      Asseco Resovia  ZAKSA Kędzierzyn-Koźle         2   \n2 2008-10-11 17:00:00  Jastrzębski Węgiel        Chemik Bydgoszcz         3   \n3 2008-10-12 15:00:00        Trefl Gdańsk      PGE Skra Bełchatów         1   \n4 2008-10-13 18:00:00     AZS Częstochowa        Projekt Warszawa         2   \n\n   T2_Score  T1_Sum  T1_BP  T1_Ratio  T1_Srv_Sum  T1_Srv_Err  ...  \\\n0         0    55.0   74.0       2.0        10.0        0.67  ...   \n1         3    75.0  106.0       7.0        11.0        1.40  ...   \n2         1    86.0  111.0       9.0        19.0        2.25  ...   \n3         3    62.0   90.0       3.0        12.0        0.75  ...   \n4         3    66.0  103.0       2.0        19.0        0.40  ...   \n\n   T2_Rec_Perf  T2_Att_Sum  T2_Att_Err  T2_Att_Blk  T2_Att_Kill  \\\n0           17          27          74           4            9   \n1           33          33         143          15           13   \n2           32          34         102           5           14   \n3           31          39         107           8            6   \n4           31          36         124          11           11   \n\n   T2_Att_Kill_Perc  T2_Att_Eff  T2_Blk_Sum  T2_Blk_As  Winner  \n0                37          50           6        2.0       0  \n1                57          40           7        1.4       1  \n2                48          47           4        1.0       0  \n3                62          58          10        2.5       1  \n4                57          46          16        3.2       1  \n\n[5 rows x 44 columns]",
      "text/html": "<div>\n<style scoped>\n    .dataframe tbody tr th:only-of-type {\n        vertical-align: middle;\n    }\n\n    .dataframe tbody tr th {\n        vertical-align: top;\n    }\n\n    .dataframe thead th {\n        text-align: right;\n    }\n</style>\n<table border=\"1\" class=\"dataframe\">\n  <thead>\n    <tr style=\"text-align: right;\">\n      <th></th>\n      <th>Date</th>\n      <th>Team_1</th>\n      <th>Team_2</th>\n      <th>T1_Score</th>\n      <th>T2_Score</th>\n      <th>T1_Sum</th>\n      <th>T1_BP</th>\n      <th>T1_Ratio</th>\n      <th>T1_Srv_Sum</th>\n      <th>T1_Srv_Err</th>\n      <th>...</th>\n      <th>T2_Rec_Perf</th>\n      <th>T2_Att_Sum</th>\n      <th>T2_Att_Err</th>\n      <th>T2_Att_Blk</th>\n      <th>T2_Att_Kill</th>\n      <th>T2_Att_Kill_Perc</th>\n      <th>T2_Att_Eff</th>\n      <th>T2_Blk_Sum</th>\n      <th>T2_Blk_As</th>\n      <th>Winner</th>\n    </tr>\n  </thead>\n  <tbody>\n    <tr>\n      <th>0</th>\n      <td>2008-10-10 18:00:00</td>\n      <td>AZS Olsztyn</td>\n      <td>Jadar Radom</td>\n      <td>3</td>\n      <td>0</td>\n      <td>55.0</td>\n      <td>74.0</td>\n      <td>2.0</td>\n      <td>10.0</td>\n      <td>0.67</td>\n      <td>...</td>\n      <td>17</td>\n      <td>27</td>\n      <td>74</td>\n      <td>4</td>\n      <td>9</td>\n      <td>37</td>\n      <td>50</td>\n      <td>6</td>\n      <td>2.0</td>\n      <td>0</td>\n    </tr>\n    <tr>\n      <th>1</th>\n      <td>2008-10-11 15:00:00</td>\n      <td>Asseco Resovia</td>\n      <td>ZAKSA Kędzierzyn-Koźle</td>\n      <td>2</td>\n      <td>3</td>\n      <td>75.0</td>\n      <td>106.0</td>\n      <td>7.0</td>\n      <td>11.0</td>\n      <td>1.40</td>\n      <td>...</td>\n      <td>33</td>\n      <td>33</td>\n      <td>143</td>\n      <td>15</td>\n      <td>13</td>\n      <td>57</td>\n      <td>40</td>\n      <td>7</td>\n      <td>1.4</td>\n      <td>1</td>\n    </tr>\n    <tr>\n      <th>2</th>\n      <td>2008-10-11 17:00:00</td>\n      <td>Jastrzębski Węgiel</td>\n      <td>Chemik Bydgoszcz</td>\n      <td>3</td>\n      <td>1</td>\n      <td>86.0</td>\n      <td>111.0</td>\n      <td>9.0</td>\n      <td>19.0</td>\n      <td>2.25</td>\n      <td>...</td>\n      <td>32</td>\n      <td>34</td>\n      <td>102</td>\n      <td>5</td>\n      <td>14</td>\n      <td>48</td>\n      <td>47</td>\n      <td>4</td>\n      <td>1.0</td>\n      <td>0</td>\n    </tr>\n    <tr>\n      <th>3</th>\n      <td>2008-10-12 15:00:00</td>\n      <td>Trefl Gdańsk</td>\n      <td>PGE Skra Bełchatów</td>\n      <td>1</td>\n      <td>3</td>\n      <td>62.0</td>\n      <td>90.0</td>\n      <td>3.0</td>\n      <td>12.0</td>\n      <td>0.75</td>\n      <td>...</td>\n      <td>31</td>\n      <td>39</td>\n      <td>107</td>\n      <td>8</td>\n      <td>6</td>\n      <td>62</td>\n      <td>58</td>\n      <td>10</td>\n      <td>2.5</td>\n      <td>1</td>\n    </tr>\n    <tr>\n      <th>4</th>\n      <td>2008-10-13 18:00:00</td>\n      <td>AZS Częstochowa</td>\n      <td>Projekt Warszawa</td>\n      <td>2</td>\n      <td>3</td>\n      <td>66.0</td>\n      <td>103.0</td>\n      <td>2.0</td>\n      <td>19.0</td>\n      <td>0.40</td>\n      <td>...</td>\n      <td>31</td>\n      <td>36</td>\n      <td>124</td>\n      <td>11</td>\n      <td>11</td>\n      <td>57</td>\n      <td>46</td>\n      <td>16</td>\n      <td>3.2</td>\n      <td>1</td>\n    </tr>\n  </tbody>\n</table>\n<p>5 rows × 44 columns</p>\n</div>"
     },
     "execution_count": 279,
     "metadata": {},
     "output_type": "execute_result"
    }
   ],
   "source": [
    "df.sort_values('Date', ascending=True, inplace=True)\n",
    "df.reset_index(inplace=True, drop=True)\n",
    "df.head()"
   ],
   "metadata": {
    "collapsed": false
   }
  },
  {
   "cell_type": "code",
   "execution_count": 280,
   "outputs": [
    {
     "data": {
      "text/plain": "2639"
     },
     "execution_count": 280,
     "metadata": {},
     "output_type": "execute_result"
    }
   ],
   "source": [
    "len(df)"
   ],
   "metadata": {
    "collapsed": false
   }
  },
  {
   "cell_type": "code",
   "execution_count": 281,
   "outputs": [
    {
     "data": {
      "text/plain": "Empty DataFrame\nColumns: [Date, Team_1, Team_2, T1_Score, T2_Score, T1_Sum, T1_BP, T1_Ratio, T1_Srv_Sum, T1_Srv_Err, T1_Srv_Ace, T1_Srv_Eff, T1_Rec_Sum, T1_Rec_Err, T1_Rec_Pos, T1_Rec_Perf, T1_Att_Sum, T1_Att_Err, T1_Att_Blk, T1_Att_Kill, T1_Att_Kill_Perc, T1_Att_Eff, T1_Blk_Sum, T1_Blk_As, T2_Sum, T2_BP, T2_Ratio, T2_Srv_Sum, T2_Srv_Err, T2_Srv_Ace, T2_Srv_Eff, T2_Rec_Sum, T2_Rec_Err, T2_Rec_Pos, T2_Rec_Perf, T2_Att_Sum, T2_Att_Err, T2_Att_Blk, T2_Att_Kill, T2_Att_Kill_Perc, T2_Att_Eff, T2_Blk_Sum, T2_Blk_As, Winner, sets]\nIndex: []\n\n[0 rows x 45 columns]",
      "text/html": "<div>\n<style scoped>\n    .dataframe tbody tr th:only-of-type {\n        vertical-align: middle;\n    }\n\n    .dataframe tbody tr th {\n        vertical-align: top;\n    }\n\n    .dataframe thead th {\n        text-align: right;\n    }\n</style>\n<table border=\"1\" class=\"dataframe\">\n  <thead>\n    <tr style=\"text-align: right;\">\n      <th></th>\n      <th>Date</th>\n      <th>Team_1</th>\n      <th>Team_2</th>\n      <th>T1_Score</th>\n      <th>T2_Score</th>\n      <th>T1_Sum</th>\n      <th>T1_BP</th>\n      <th>T1_Ratio</th>\n      <th>T1_Srv_Sum</th>\n      <th>T1_Srv_Err</th>\n      <th>...</th>\n      <th>T2_Att_Sum</th>\n      <th>T2_Att_Err</th>\n      <th>T2_Att_Blk</th>\n      <th>T2_Att_Kill</th>\n      <th>T2_Att_Kill_Perc</th>\n      <th>T2_Att_Eff</th>\n      <th>T2_Blk_Sum</th>\n      <th>T2_Blk_As</th>\n      <th>Winner</th>\n      <th>sets</th>\n    </tr>\n  </thead>\n  <tbody>\n  </tbody>\n</table>\n<p>0 rows × 45 columns</p>\n</div>"
     },
     "execution_count": 281,
     "metadata": {},
     "output_type": "execute_result"
    }
   ],
   "source": [
    "# Matches should have between 3 and 5 sets\n",
    "df['sets'] = df['T1_Score'] + df['T2_Score']\n",
    "df[(df['sets'] < 3) | (df['sets'] > 5)]"
   ],
   "metadata": {
    "collapsed": false
   }
  },
  {
   "cell_type": "code",
   "execution_count": 282,
   "outputs": [],
   "source": [
    "# Make averages per set (The longer the game goes, the sum of different statistics is larger)\n",
    "set_divisible_cols = ['T1_Sum', 'T1_BP', 'T1_Srv_Sum', 'T1_Srv_Err', 'T1_Srv_Ace', 'T1_Rec_Sum', 'T1_Rec_Err', 'T1_Att_Sum', 'T1_Att_Err', 'T1_Att_Blk', 'T1_Att_Kill', 'T1_Blk_Sum', 'T1_Blk_As',\n",
    "                      'T2_Sum', 'T2_BP', 'T2_Srv_Sum', 'T2_Srv_Err', 'T2_Srv_Ace', 'T2_Rec_Sum', 'T2_Rec_Err', 'T2_Att_Sum', 'T2_Att_Err', 'T2_Att_Blk', 'T2_Att_Kill', 'T2_Blk_Sum', 'T2_Blk_As']\n",
    "set_divisible_new_cols = [f'{c}_SAvg' for c in set_divisible_cols]\n",
    "df[set_divisible_new_cols] = df[set_divisible_cols].div(df['sets'], axis=0)"
   ],
   "metadata": {
    "collapsed": false
   }
  },
  {
   "cell_type": "code",
   "execution_count": 283,
   "outputs": [],
   "source": [
    "# Separate team 1 and team 2\n",
    "t1_df = pd.concat([df[['Date','Team_1', 'T1_Score']], df.loc[:, 'T1_Sum': 'T1_Blk_As'], df.loc[:, 'T1_Sum_SAvg':'T1_Blk_As_SAvg']], axis=1)\n",
    "t2_df = pd.concat([df[['Date','Team_2', 'T2_Score']], df.loc[:, 'T2_Sum': 'T2_Blk_As'], df.loc[:, 'T2_Sum_SAvg':'T2_Blk_As_SAvg']], axis=1)\n",
    "t1_df['Opponent'] = df['Team_2']\n",
    "t2_df['Opponent'] = df['Team_1']"
   ],
   "metadata": {
    "collapsed": false
   }
  },
  {
   "cell_type": "code",
   "execution_count": 284,
   "outputs": [],
   "source": [
    "new_col_names = {x: y for x, y in zip(t2_df.columns, t1_df.columns)}\n",
    "team_perf_df = pd.concat([t1_df, t2_df.rename(columns=new_col_names)])\n",
    "team_perf_df.columns = team_perf_df.columns.str.replace('T1_', '')"
   ],
   "metadata": {
    "collapsed": false
   }
  },
  {
   "cell_type": "code",
   "execution_count": 285,
   "outputs": [
    {
     "data": {
      "text/plain": "                    Date                  Team_1  Score   Sum     BP  Ratio  \\\n2638 2023-03-05 14:45:00        Projekt Warszawa      3  71.0   30.0   37.0   \n2638 2023-03-05 14:45:00             LUK  Lublin      1  51.0   17.0   17.0   \n2637 2023-03-04 20:30:00  ZAKSA Kędzierzyn-Koźle      3  63.0   27.0   33.0   \n2637 2023-03-04 20:30:00            Cuprum Lubin      1  63.0   19.0   25.0   \n2636 2023-03-04 17:30:00      Jastrzębski Węgiel      3  74.0   31.0   48.0   \n...                  ...                     ...    ...   ...    ...    ...   \n2    2008-10-11 17:00:00        Chemik Bydgoszcz      1  64.0   97.0   12.0   \n1    2008-10-11 15:00:00  ZAKSA Kędzierzyn-Koźle      3  70.0   98.0    6.0   \n1    2008-10-11 15:00:00          Asseco Resovia      2  75.0  106.0    7.0   \n0    2008-10-10 18:00:00             AZS Olsztyn      3  55.0   74.0    2.0   \n0    2008-10-10 18:00:00             Jadar Radom      0  49.0   71.0    6.0   \n\n      Srv_Sum  Srv_Err  Srv_Ace  Srv_Eff  ...  Srv_Ace_SAvg  Rec_Sum_SAvg  \\\n2638     97.0    20.00      8.0      -10  ...      2.000000     16.250000   \n2638     81.0    16.00      6.0       -8  ...      1.500000     19.250000   \n2637     97.0    16.00      7.0       -3  ...      1.750000     16.250000   \n2637     88.0    23.00      9.0      -15  ...      2.250000     20.250000   \n2636     96.0    17.00      9.0       -2  ...      2.250000     14.250000   \n...       ...      ...      ...      ...  ...           ...           ...   \n2        18.0     3.00     92.0        9  ...     23.000000      8.250000   \n1        14.0     1.20     98.0        8  ...     19.600000      5.200000   \n1        11.0     1.40     83.0        5  ...     16.600000      6.000000   \n0        10.0     0.67     60.0        6  ...     20.000000      4.666667   \n0        11.0     2.00     62.0        2  ...     20.666667      8.000000   \n\n      Rec_Err_SAvg  Att_Sum_SAvg  Att_Err_SAvg  Att_Blk_SAvg  Att_Kill_SAvg  \\\n2638      1.500000     21.000000      1.750000      1.000000          11.75   \n2638      2.000000     26.750000      2.250000      4.000000          10.25   \n2637      2.250000     21.000000      1.250000      1.500000          10.75   \n2637      1.750000     24.000000      1.750000      3.250000          12.00   \n2636      1.750000     19.250000      0.250000      1.000000          14.50   \n...            ...           ...           ...           ...            ...   \n2        10.500000      8.500000     25.500000      1.250000           3.50   \n1        12.800000      6.600000     28.600000      3.000000           2.60   \n1         9.600000      7.800000     26.200000      2.400000           1.40   \n0        13.333333     10.333333     27.000000      2.000000           2.00   \n0        12.000000      9.000000     24.666667      1.333333           3.00   \n\n      Blk_Sum_SAvg  Blk_As_SAvg                Opponent  \n2638          4.00     1.500000             LUK  Lublin  \n2638          1.00     2.500000        Projekt Warszawa  \n2637          3.25     2.000000            Cuprum Lubin  \n2637          1.50     2.500000  ZAKSA Kędzierzyn-Koźle  \n2636          1.75     1.000000    Ślepsk Malow Suwałki  \n...            ...          ...                     ...  \n2             1.00     0.250000      Jastrzębski Węgiel  \n1             1.40     0.280000          Asseco Resovia  \n1             2.60     0.520000  ZAKSA Kędzierzyn-Koźle  \n0             3.00     1.000000             Jadar Radom  \n0             2.00     0.666667             AZS Olsztyn  \n\n[5278 rows x 36 columns]",
      "text/html": "<div>\n<style scoped>\n    .dataframe tbody tr th:only-of-type {\n        vertical-align: middle;\n    }\n\n    .dataframe tbody tr th {\n        vertical-align: top;\n    }\n\n    .dataframe thead th {\n        text-align: right;\n    }\n</style>\n<table border=\"1\" class=\"dataframe\">\n  <thead>\n    <tr style=\"text-align: right;\">\n      <th></th>\n      <th>Date</th>\n      <th>Team_1</th>\n      <th>Score</th>\n      <th>Sum</th>\n      <th>BP</th>\n      <th>Ratio</th>\n      <th>Srv_Sum</th>\n      <th>Srv_Err</th>\n      <th>Srv_Ace</th>\n      <th>Srv_Eff</th>\n      <th>...</th>\n      <th>Srv_Ace_SAvg</th>\n      <th>Rec_Sum_SAvg</th>\n      <th>Rec_Err_SAvg</th>\n      <th>Att_Sum_SAvg</th>\n      <th>Att_Err_SAvg</th>\n      <th>Att_Blk_SAvg</th>\n      <th>Att_Kill_SAvg</th>\n      <th>Blk_Sum_SAvg</th>\n      <th>Blk_As_SAvg</th>\n      <th>Opponent</th>\n    </tr>\n  </thead>\n  <tbody>\n    <tr>\n      <th>2638</th>\n      <td>2023-03-05 14:45:00</td>\n      <td>Projekt Warszawa</td>\n      <td>3</td>\n      <td>71.0</td>\n      <td>30.0</td>\n      <td>37.0</td>\n      <td>97.0</td>\n      <td>20.00</td>\n      <td>8.0</td>\n      <td>-10</td>\n      <td>...</td>\n      <td>2.000000</td>\n      <td>16.250000</td>\n      <td>1.500000</td>\n      <td>21.000000</td>\n      <td>1.750000</td>\n      <td>1.000000</td>\n      <td>11.75</td>\n      <td>4.00</td>\n      <td>1.500000</td>\n      <td>LUK  Lublin</td>\n    </tr>\n    <tr>\n      <th>2638</th>\n      <td>2023-03-05 14:45:00</td>\n      <td>LUK  Lublin</td>\n      <td>1</td>\n      <td>51.0</td>\n      <td>17.0</td>\n      <td>17.0</td>\n      <td>81.0</td>\n      <td>16.00</td>\n      <td>6.0</td>\n      <td>-8</td>\n      <td>...</td>\n      <td>1.500000</td>\n      <td>19.250000</td>\n      <td>2.000000</td>\n      <td>26.750000</td>\n      <td>2.250000</td>\n      <td>4.000000</td>\n      <td>10.25</td>\n      <td>1.00</td>\n      <td>2.500000</td>\n      <td>Projekt Warszawa</td>\n    </tr>\n    <tr>\n      <th>2637</th>\n      <td>2023-03-04 20:30:00</td>\n      <td>ZAKSA Kędzierzyn-Koźle</td>\n      <td>3</td>\n      <td>63.0</td>\n      <td>27.0</td>\n      <td>33.0</td>\n      <td>97.0</td>\n      <td>16.00</td>\n      <td>7.0</td>\n      <td>-3</td>\n      <td>...</td>\n      <td>1.750000</td>\n      <td>16.250000</td>\n      <td>2.250000</td>\n      <td>21.000000</td>\n      <td>1.250000</td>\n      <td>1.500000</td>\n      <td>10.75</td>\n      <td>3.25</td>\n      <td>2.000000</td>\n      <td>Cuprum Lubin</td>\n    </tr>\n    <tr>\n      <th>2637</th>\n      <td>2023-03-04 20:30:00</td>\n      <td>Cuprum Lubin</td>\n      <td>1</td>\n      <td>63.0</td>\n      <td>19.0</td>\n      <td>25.0</td>\n      <td>88.0</td>\n      <td>23.00</td>\n      <td>9.0</td>\n      <td>-15</td>\n      <td>...</td>\n      <td>2.250000</td>\n      <td>20.250000</td>\n      <td>1.750000</td>\n      <td>24.000000</td>\n      <td>1.750000</td>\n      <td>3.250000</td>\n      <td>12.00</td>\n      <td>1.50</td>\n      <td>2.500000</td>\n      <td>ZAKSA Kędzierzyn-Koźle</td>\n    </tr>\n    <tr>\n      <th>2636</th>\n      <td>2023-03-04 17:30:00</td>\n      <td>Jastrzębski Węgiel</td>\n      <td>3</td>\n      <td>74.0</td>\n      <td>31.0</td>\n      <td>48.0</td>\n      <td>96.0</td>\n      <td>17.00</td>\n      <td>9.0</td>\n      <td>-2</td>\n      <td>...</td>\n      <td>2.250000</td>\n      <td>14.250000</td>\n      <td>1.750000</td>\n      <td>19.250000</td>\n      <td>0.250000</td>\n      <td>1.000000</td>\n      <td>14.50</td>\n      <td>1.75</td>\n      <td>1.000000</td>\n      <td>Ślepsk Malow Suwałki</td>\n    </tr>\n    <tr>\n      <th>...</th>\n      <td>...</td>\n      <td>...</td>\n      <td>...</td>\n      <td>...</td>\n      <td>...</td>\n      <td>...</td>\n      <td>...</td>\n      <td>...</td>\n      <td>...</td>\n      <td>...</td>\n      <td>...</td>\n      <td>...</td>\n      <td>...</td>\n      <td>...</td>\n      <td>...</td>\n      <td>...</td>\n      <td>...</td>\n      <td>...</td>\n      <td>...</td>\n      <td>...</td>\n      <td>...</td>\n    </tr>\n    <tr>\n      <th>2</th>\n      <td>2008-10-11 17:00:00</td>\n      <td>Chemik Bydgoszcz</td>\n      <td>1</td>\n      <td>64.0</td>\n      <td>97.0</td>\n      <td>12.0</td>\n      <td>18.0</td>\n      <td>3.00</td>\n      <td>92.0</td>\n      <td>9</td>\n      <td>...</td>\n      <td>23.000000</td>\n      <td>8.250000</td>\n      <td>10.500000</td>\n      <td>8.500000</td>\n      <td>25.500000</td>\n      <td>1.250000</td>\n      <td>3.50</td>\n      <td>1.00</td>\n      <td>0.250000</td>\n      <td>Jastrzębski Węgiel</td>\n    </tr>\n    <tr>\n      <th>1</th>\n      <td>2008-10-11 15:00:00</td>\n      <td>ZAKSA Kędzierzyn-Koźle</td>\n      <td>3</td>\n      <td>70.0</td>\n      <td>98.0</td>\n      <td>6.0</td>\n      <td>14.0</td>\n      <td>1.20</td>\n      <td>98.0</td>\n      <td>8</td>\n      <td>...</td>\n      <td>19.600000</td>\n      <td>5.200000</td>\n      <td>12.800000</td>\n      <td>6.600000</td>\n      <td>28.600000</td>\n      <td>3.000000</td>\n      <td>2.60</td>\n      <td>1.40</td>\n      <td>0.280000</td>\n      <td>Asseco Resovia</td>\n    </tr>\n    <tr>\n      <th>1</th>\n      <td>2008-10-11 15:00:00</td>\n      <td>Asseco Resovia</td>\n      <td>2</td>\n      <td>75.0</td>\n      <td>106.0</td>\n      <td>7.0</td>\n      <td>11.0</td>\n      <td>1.40</td>\n      <td>83.0</td>\n      <td>5</td>\n      <td>...</td>\n      <td>16.600000</td>\n      <td>6.000000</td>\n      <td>9.600000</td>\n      <td>7.800000</td>\n      <td>26.200000</td>\n      <td>2.400000</td>\n      <td>1.40</td>\n      <td>2.60</td>\n      <td>0.520000</td>\n      <td>ZAKSA Kędzierzyn-Koźle</td>\n    </tr>\n    <tr>\n      <th>0</th>\n      <td>2008-10-10 18:00:00</td>\n      <td>AZS Olsztyn</td>\n      <td>3</td>\n      <td>55.0</td>\n      <td>74.0</td>\n      <td>2.0</td>\n      <td>10.0</td>\n      <td>0.67</td>\n      <td>60.0</td>\n      <td>6</td>\n      <td>...</td>\n      <td>20.000000</td>\n      <td>4.666667</td>\n      <td>13.333333</td>\n      <td>10.333333</td>\n      <td>27.000000</td>\n      <td>2.000000</td>\n      <td>2.00</td>\n      <td>3.00</td>\n      <td>1.000000</td>\n      <td>Jadar Radom</td>\n    </tr>\n    <tr>\n      <th>0</th>\n      <td>2008-10-10 18:00:00</td>\n      <td>Jadar Radom</td>\n      <td>0</td>\n      <td>49.0</td>\n      <td>71.0</td>\n      <td>6.0</td>\n      <td>11.0</td>\n      <td>2.00</td>\n      <td>62.0</td>\n      <td>2</td>\n      <td>...</td>\n      <td>20.666667</td>\n      <td>8.000000</td>\n      <td>12.000000</td>\n      <td>9.000000</td>\n      <td>24.666667</td>\n      <td>1.333333</td>\n      <td>3.00</td>\n      <td>2.00</td>\n      <td>0.666667</td>\n      <td>AZS Olsztyn</td>\n    </tr>\n  </tbody>\n</table>\n<p>5278 rows × 36 columns</p>\n</div>"
     },
     "execution_count": 285,
     "metadata": {},
     "output_type": "execute_result"
    }
   ],
   "source": [
    "team_perf_df.sort_values('Date', ascending=False)"
   ],
   "metadata": {
    "collapsed": false
   }
  },
  {
   "cell_type": "code",
   "execution_count": 286,
   "outputs": [],
   "source": [
    "def rolling_average(group, cols, new_cols):\n",
    "    group = group.sort_values('Date')\n",
    "    rolling_stats = group[cols].rolling(3, closed='left').mean()\n",
    "    group[new_cols] = rolling_stats\n",
    "    group = group.dropna(subset=new_cols)\n",
    "    return group"
   ],
   "metadata": {
    "collapsed": false
   }
  },
  {
   "cell_type": "code",
   "execution_count": 287,
   "outputs": [],
   "source": [
    "roll_col_names = list(team_perf_df.columns)[2:-1]\n",
    "roll_new_col_names = [f'{c}_rolling' for c in roll_col_names]"
   ],
   "metadata": {
    "collapsed": false
   }
  },
  {
   "cell_type": "code",
   "execution_count": 288,
   "outputs": [],
   "source": [
    "matches_rolling = team_perf_df.groupby('Team_1').apply(lambda x: rolling_average(x, roll_col_names, roll_new_col_names))\n",
    "matches_rolling = matches_rolling.droplevel('Team_1')"
   ],
   "metadata": {
    "collapsed": false
   }
  },
  {
   "cell_type": "code",
   "execution_count": 289,
   "outputs": [
    {
     "data": {
      "text/plain": "                    Date                  Team_1  Score   Sum    BP  Ratio  \\\n2638 2023-03-05 14:45:00        Projekt Warszawa      3  71.0  30.0   37.0   \n2638 2023-03-05 14:45:00             LUK  Lublin      1  51.0  17.0   17.0   \n2637 2023-03-04 20:30:00  ZAKSA Kędzierzyn-Koźle      3  63.0  27.0   33.0   \n2637 2023-03-04 20:30:00            Cuprum Lubin      1  63.0  19.0   25.0   \n2636 2023-03-04 17:30:00    Ślepsk Malow Suwałki      1  51.0  12.0   20.0   \n\n      Srv_Sum  Srv_Err  Srv_Ace  Srv_Eff  ...  Srv_Err_SAvg_rolling  \\\n2638     97.0     20.0      8.0      -10  ...              4.083333   \n2638     81.0     16.0      6.0       -8  ...              4.277778   \n2637     97.0     16.0      7.0       -3  ...              3.500000   \n2637     88.0     23.0      9.0      -15  ...              4.844444   \n2636     71.0     14.0      7.0       -7  ...              3.688889   \n\n      Srv_Ace_SAvg_rolling  Rec_Sum_SAvg_rolling  Rec_Err_SAvg_rolling  \\\n2638              1.333333             17.083333              1.916667   \n2638              1.055556             20.222222              1.833333   \n2637              2.000000             18.250000              1.305556   \n2637              0.977778             18.288889              1.422222   \n2636              2.000000             16.777778              1.355556   \n\n      Att_Sum_SAvg_rolling  Att_Err_SAvg_rolling  Att_Blk_SAvg_rolling  \\\n2638             23.500000              1.500000              1.583333   \n2638             25.388889              1.694444              2.250000   \n2637             27.750000              2.916667              2.694444   \n2637             23.977778              2.400000              2.533333   \n2636             22.577778              0.911111              1.777778   \n\n      Att_Kill_SAvg_rolling  Blk_Sum_SAvg_rolling  Blk_As_SAvg_rolling  \n2638              13.083333              2.666667             3.000000  \n2638              12.055556              1.416667             2.388889  \n2637              12.833333              2.305556             2.750000  \n2637              12.022222              1.688889             2.488889  \n2636              12.777778              2.288889             2.022222  \n\n[5 rows x 69 columns]",
      "text/html": "<div>\n<style scoped>\n    .dataframe tbody tr th:only-of-type {\n        vertical-align: middle;\n    }\n\n    .dataframe tbody tr th {\n        vertical-align: top;\n    }\n\n    .dataframe thead th {\n        text-align: right;\n    }\n</style>\n<table border=\"1\" class=\"dataframe\">\n  <thead>\n    <tr style=\"text-align: right;\">\n      <th></th>\n      <th>Date</th>\n      <th>Team_1</th>\n      <th>Score</th>\n      <th>Sum</th>\n      <th>BP</th>\n      <th>Ratio</th>\n      <th>Srv_Sum</th>\n      <th>Srv_Err</th>\n      <th>Srv_Ace</th>\n      <th>Srv_Eff</th>\n      <th>...</th>\n      <th>Srv_Err_SAvg_rolling</th>\n      <th>Srv_Ace_SAvg_rolling</th>\n      <th>Rec_Sum_SAvg_rolling</th>\n      <th>Rec_Err_SAvg_rolling</th>\n      <th>Att_Sum_SAvg_rolling</th>\n      <th>Att_Err_SAvg_rolling</th>\n      <th>Att_Blk_SAvg_rolling</th>\n      <th>Att_Kill_SAvg_rolling</th>\n      <th>Blk_Sum_SAvg_rolling</th>\n      <th>Blk_As_SAvg_rolling</th>\n    </tr>\n  </thead>\n  <tbody>\n    <tr>\n      <th>2638</th>\n      <td>2023-03-05 14:45:00</td>\n      <td>Projekt Warszawa</td>\n      <td>3</td>\n      <td>71.0</td>\n      <td>30.0</td>\n      <td>37.0</td>\n      <td>97.0</td>\n      <td>20.0</td>\n      <td>8.0</td>\n      <td>-10</td>\n      <td>...</td>\n      <td>4.083333</td>\n      <td>1.333333</td>\n      <td>17.083333</td>\n      <td>1.916667</td>\n      <td>23.500000</td>\n      <td>1.500000</td>\n      <td>1.583333</td>\n      <td>13.083333</td>\n      <td>2.666667</td>\n      <td>3.000000</td>\n    </tr>\n    <tr>\n      <th>2638</th>\n      <td>2023-03-05 14:45:00</td>\n      <td>LUK  Lublin</td>\n      <td>1</td>\n      <td>51.0</td>\n      <td>17.0</td>\n      <td>17.0</td>\n      <td>81.0</td>\n      <td>16.0</td>\n      <td>6.0</td>\n      <td>-8</td>\n      <td>...</td>\n      <td>4.277778</td>\n      <td>1.055556</td>\n      <td>20.222222</td>\n      <td>1.833333</td>\n      <td>25.388889</td>\n      <td>1.694444</td>\n      <td>2.250000</td>\n      <td>12.055556</td>\n      <td>1.416667</td>\n      <td>2.388889</td>\n    </tr>\n    <tr>\n      <th>2637</th>\n      <td>2023-03-04 20:30:00</td>\n      <td>ZAKSA Kędzierzyn-Koźle</td>\n      <td>3</td>\n      <td>63.0</td>\n      <td>27.0</td>\n      <td>33.0</td>\n      <td>97.0</td>\n      <td>16.0</td>\n      <td>7.0</td>\n      <td>-3</td>\n      <td>...</td>\n      <td>3.500000</td>\n      <td>2.000000</td>\n      <td>18.250000</td>\n      <td>1.305556</td>\n      <td>27.750000</td>\n      <td>2.916667</td>\n      <td>2.694444</td>\n      <td>12.833333</td>\n      <td>2.305556</td>\n      <td>2.750000</td>\n    </tr>\n    <tr>\n      <th>2637</th>\n      <td>2023-03-04 20:30:00</td>\n      <td>Cuprum Lubin</td>\n      <td>1</td>\n      <td>63.0</td>\n      <td>19.0</td>\n      <td>25.0</td>\n      <td>88.0</td>\n      <td>23.0</td>\n      <td>9.0</td>\n      <td>-15</td>\n      <td>...</td>\n      <td>4.844444</td>\n      <td>0.977778</td>\n      <td>18.288889</td>\n      <td>1.422222</td>\n      <td>23.977778</td>\n      <td>2.400000</td>\n      <td>2.533333</td>\n      <td>12.022222</td>\n      <td>1.688889</td>\n      <td>2.488889</td>\n    </tr>\n    <tr>\n      <th>2636</th>\n      <td>2023-03-04 17:30:00</td>\n      <td>Ślepsk Malow Suwałki</td>\n      <td>1</td>\n      <td>51.0</td>\n      <td>12.0</td>\n      <td>20.0</td>\n      <td>71.0</td>\n      <td>14.0</td>\n      <td>7.0</td>\n      <td>-7</td>\n      <td>...</td>\n      <td>3.688889</td>\n      <td>2.000000</td>\n      <td>16.777778</td>\n      <td>1.355556</td>\n      <td>22.577778</td>\n      <td>0.911111</td>\n      <td>1.777778</td>\n      <td>12.777778</td>\n      <td>2.288889</td>\n      <td>2.022222</td>\n    </tr>\n  </tbody>\n</table>\n<p>5 rows × 69 columns</p>\n</div>"
     },
     "execution_count": 289,
     "metadata": {},
     "output_type": "execute_result"
    }
   ],
   "source": [
    "matches_rolling.sort_values('Date', ascending=False).head()"
   ],
   "metadata": {
    "collapsed": false
   }
  },
  {
   "cell_type": "code",
   "execution_count": 292,
   "outputs": [
    {
     "data": {
      "text/plain": "                    Date              Team_1  Score   Sum     BP  Ratio  \\\n2638 2023-03-05 14:45:00         LUK  Lublin      1  51.0   17.0   17.0   \n2637 2023-03-04 20:30:00        Cuprum Lubin      1  63.0   19.0   25.0   \n2636 2023-03-04 17:30:00  Jastrzębski Węgiel      3  74.0   31.0   48.0   \n2635 2023-03-04 14:45:00      Asseco Resovia      0  40.0    9.0    6.0   \n2634 2023-03-03 17:30:00         AZS Olsztyn      3  55.0   24.0   33.0   \n...                  ...                 ...    ...   ...    ...    ...   \n19   2008-11-09 15:00:00  Jastrzębski Węgiel      3  72.0   93.0    5.0   \n18   2008-11-08 17:00:00     AZS Częstochowa      0  47.0   59.0    5.0   \n15   2008-11-07 18:00:00      Asseco Resovia      3  53.0   79.0    6.0   \n16   2008-11-07 18:00:00    Chemik Bydgoszcz      2  69.0  103.0    8.0   \n17   2008-11-07 18:00:00         Jadar Radom      1  64.0   97.0    0.0   \n\n      Srv_Sum  Srv_Err  Srv_Ace  Srv_Eff  ...  Srv_Err_SAvg_rolling  \\\n2638     81.0    16.00      6.0       -8  ...              4.277778   \n2637     88.0    23.00      9.0      -15  ...              4.844444   \n2636     96.0    17.00      9.0       -2  ...              4.055556   \n2635     59.0    19.00      3.0      -25  ...              5.833333   \n2634     73.0    14.00      6.0       -4  ...              5.305556   \n...       ...      ...      ...      ...  ...                   ...   \n19       14.0     1.00     81.0        7  ...              0.441944   \n18        9.0     1.67     69.0        6  ...              0.156667   \n15       10.0     2.00     54.0        3  ...              0.537778   \n16       16.0     1.60     86.0        5  ...              0.444444   \n17       17.0     0.00     93.0        4  ...              0.407778   \n\n      Srv_Ace_SAvg_rolling  Rec_Sum_SAvg_rolling  Rec_Err_SAvg_rolling  \\\n2638              1.055556             20.222222              1.833333   \n2637              0.977778             18.288889              1.422222   \n2636              2.083333             15.694444              0.833333   \n2635              1.250000             18.666667              1.250000   \n2634              1.805556             20.305556              1.388889   \n...                    ...                   ...                   ...   \n19               17.250000              3.794444              9.100000   \n18               18.644444              4.155556              9.333333   \n15               15.755556              4.777778              9.977778   \n16               21.750000              5.833333             11.638889   \n17               20.777778              5.555556             12.666667   \n\n      Att_Sum_SAvg_rolling  Att_Err_SAvg_rolling  Att_Blk_SAvg_rolling  \\\n2638             25.388889              1.694444              2.250000   \n2637             23.977778              2.400000              2.533333   \n2636             24.305556              1.583333              2.138889   \n2635             26.916667              1.916667              2.000000   \n2634             26.111111              2.083333              2.555556   \n...                    ...                   ...                   ...   \n19               10.744444             24.322222              2.122222   \n18                6.688889             25.800000              2.133333   \n15               13.377778             26.288889              1.688889   \n16               11.083333             25.111111              2.805556   \n17               11.444444             26.777778              2.222222   \n\n      Att_Kill_SAvg_rolling  Blk_Sum_SAvg_rolling  Blk_As_SAvg_rolling  \n2638              12.055556              1.416667             2.388889  \n2637              12.022222              1.688889             2.488889  \n2636              13.250000              2.166667             2.916667  \n2635              14.250000              2.416667             3.000000  \n2634              12.111111              1.472222             2.611111  \n...                     ...                   ...                  ...  \n19                 1.577778              2.833333             0.758333  \n18                 2.644444              2.000000             0.444444  \n15                 2.244444              2.311111             0.655556  \n16                 2.361111              2.638889             0.734167  \n17                 2.888889              2.333333             0.777778  \n\n[2624 rows x 69 columns]",
      "text/html": "<div>\n<style scoped>\n    .dataframe tbody tr th:only-of-type {\n        vertical-align: middle;\n    }\n\n    .dataframe tbody tr th {\n        vertical-align: top;\n    }\n\n    .dataframe thead th {\n        text-align: right;\n    }\n</style>\n<table border=\"1\" class=\"dataframe\">\n  <thead>\n    <tr style=\"text-align: right;\">\n      <th></th>\n      <th>Date</th>\n      <th>Team_1</th>\n      <th>Score</th>\n      <th>Sum</th>\n      <th>BP</th>\n      <th>Ratio</th>\n      <th>Srv_Sum</th>\n      <th>Srv_Err</th>\n      <th>Srv_Ace</th>\n      <th>Srv_Eff</th>\n      <th>...</th>\n      <th>Srv_Err_SAvg_rolling</th>\n      <th>Srv_Ace_SAvg_rolling</th>\n      <th>Rec_Sum_SAvg_rolling</th>\n      <th>Rec_Err_SAvg_rolling</th>\n      <th>Att_Sum_SAvg_rolling</th>\n      <th>Att_Err_SAvg_rolling</th>\n      <th>Att_Blk_SAvg_rolling</th>\n      <th>Att_Kill_SAvg_rolling</th>\n      <th>Blk_Sum_SAvg_rolling</th>\n      <th>Blk_As_SAvg_rolling</th>\n    </tr>\n  </thead>\n  <tbody>\n    <tr>\n      <th>2638</th>\n      <td>2023-03-05 14:45:00</td>\n      <td>LUK  Lublin</td>\n      <td>1</td>\n      <td>51.0</td>\n      <td>17.0</td>\n      <td>17.0</td>\n      <td>81.0</td>\n      <td>16.00</td>\n      <td>6.0</td>\n      <td>-8</td>\n      <td>...</td>\n      <td>4.277778</td>\n      <td>1.055556</td>\n      <td>20.222222</td>\n      <td>1.833333</td>\n      <td>25.388889</td>\n      <td>1.694444</td>\n      <td>2.250000</td>\n      <td>12.055556</td>\n      <td>1.416667</td>\n      <td>2.388889</td>\n    </tr>\n    <tr>\n      <th>2637</th>\n      <td>2023-03-04 20:30:00</td>\n      <td>Cuprum Lubin</td>\n      <td>1</td>\n      <td>63.0</td>\n      <td>19.0</td>\n      <td>25.0</td>\n      <td>88.0</td>\n      <td>23.00</td>\n      <td>9.0</td>\n      <td>-15</td>\n      <td>...</td>\n      <td>4.844444</td>\n      <td>0.977778</td>\n      <td>18.288889</td>\n      <td>1.422222</td>\n      <td>23.977778</td>\n      <td>2.400000</td>\n      <td>2.533333</td>\n      <td>12.022222</td>\n      <td>1.688889</td>\n      <td>2.488889</td>\n    </tr>\n    <tr>\n      <th>2636</th>\n      <td>2023-03-04 17:30:00</td>\n      <td>Jastrzębski Węgiel</td>\n      <td>3</td>\n      <td>74.0</td>\n      <td>31.0</td>\n      <td>48.0</td>\n      <td>96.0</td>\n      <td>17.00</td>\n      <td>9.0</td>\n      <td>-2</td>\n      <td>...</td>\n      <td>4.055556</td>\n      <td>2.083333</td>\n      <td>15.694444</td>\n      <td>0.833333</td>\n      <td>24.305556</td>\n      <td>1.583333</td>\n      <td>2.138889</td>\n      <td>13.250000</td>\n      <td>2.166667</td>\n      <td>2.916667</td>\n    </tr>\n    <tr>\n      <th>2635</th>\n      <td>2023-03-04 14:45:00</td>\n      <td>Asseco Resovia</td>\n      <td>0</td>\n      <td>40.0</td>\n      <td>9.0</td>\n      <td>6.0</td>\n      <td>59.0</td>\n      <td>19.00</td>\n      <td>3.0</td>\n      <td>-25</td>\n      <td>...</td>\n      <td>5.833333</td>\n      <td>1.250000</td>\n      <td>18.666667</td>\n      <td>1.250000</td>\n      <td>26.916667</td>\n      <td>1.916667</td>\n      <td>2.000000</td>\n      <td>14.250000</td>\n      <td>2.416667</td>\n      <td>3.000000</td>\n    </tr>\n    <tr>\n      <th>2634</th>\n      <td>2023-03-03 17:30:00</td>\n      <td>AZS Olsztyn</td>\n      <td>3</td>\n      <td>55.0</td>\n      <td>24.0</td>\n      <td>33.0</td>\n      <td>73.0</td>\n      <td>14.00</td>\n      <td>6.0</td>\n      <td>-4</td>\n      <td>...</td>\n      <td>5.305556</td>\n      <td>1.805556</td>\n      <td>20.305556</td>\n      <td>1.388889</td>\n      <td>26.111111</td>\n      <td>2.083333</td>\n      <td>2.555556</td>\n      <td>12.111111</td>\n      <td>1.472222</td>\n      <td>2.611111</td>\n    </tr>\n    <tr>\n      <th>...</th>\n      <td>...</td>\n      <td>...</td>\n      <td>...</td>\n      <td>...</td>\n      <td>...</td>\n      <td>...</td>\n      <td>...</td>\n      <td>...</td>\n      <td>...</td>\n      <td>...</td>\n      <td>...</td>\n      <td>...</td>\n      <td>...</td>\n      <td>...</td>\n      <td>...</td>\n      <td>...</td>\n      <td>...</td>\n      <td>...</td>\n      <td>...</td>\n      <td>...</td>\n      <td>...</td>\n    </tr>\n    <tr>\n      <th>19</th>\n      <td>2008-11-09 15:00:00</td>\n      <td>Jastrzębski Węgiel</td>\n      <td>3</td>\n      <td>72.0</td>\n      <td>93.0</td>\n      <td>5.0</td>\n      <td>14.0</td>\n      <td>1.00</td>\n      <td>81.0</td>\n      <td>7</td>\n      <td>...</td>\n      <td>0.441944</td>\n      <td>17.250000</td>\n      <td>3.794444</td>\n      <td>9.100000</td>\n      <td>10.744444</td>\n      <td>24.322222</td>\n      <td>2.122222</td>\n      <td>1.577778</td>\n      <td>2.833333</td>\n      <td>0.758333</td>\n    </tr>\n    <tr>\n      <th>18</th>\n      <td>2008-11-08 17:00:00</td>\n      <td>AZS Częstochowa</td>\n      <td>0</td>\n      <td>47.0</td>\n      <td>59.0</td>\n      <td>5.0</td>\n      <td>9.0</td>\n      <td>1.67</td>\n      <td>69.0</td>\n      <td>6</td>\n      <td>...</td>\n      <td>0.156667</td>\n      <td>18.644444</td>\n      <td>4.155556</td>\n      <td>9.333333</td>\n      <td>6.688889</td>\n      <td>25.800000</td>\n      <td>2.133333</td>\n      <td>2.644444</td>\n      <td>2.000000</td>\n      <td>0.444444</td>\n    </tr>\n    <tr>\n      <th>15</th>\n      <td>2008-11-07 18:00:00</td>\n      <td>Asseco Resovia</td>\n      <td>3</td>\n      <td>53.0</td>\n      <td>79.0</td>\n      <td>6.0</td>\n      <td>10.0</td>\n      <td>2.00</td>\n      <td>54.0</td>\n      <td>3</td>\n      <td>...</td>\n      <td>0.537778</td>\n      <td>15.755556</td>\n      <td>4.777778</td>\n      <td>9.977778</td>\n      <td>13.377778</td>\n      <td>26.288889</td>\n      <td>1.688889</td>\n      <td>2.244444</td>\n      <td>2.311111</td>\n      <td>0.655556</td>\n    </tr>\n    <tr>\n      <th>16</th>\n      <td>2008-11-07 18:00:00</td>\n      <td>Chemik Bydgoszcz</td>\n      <td>2</td>\n      <td>69.0</td>\n      <td>103.0</td>\n      <td>8.0</td>\n      <td>16.0</td>\n      <td>1.60</td>\n      <td>86.0</td>\n      <td>5</td>\n      <td>...</td>\n      <td>0.444444</td>\n      <td>21.750000</td>\n      <td>5.833333</td>\n      <td>11.638889</td>\n      <td>11.083333</td>\n      <td>25.111111</td>\n      <td>2.805556</td>\n      <td>2.361111</td>\n      <td>2.638889</td>\n      <td>0.734167</td>\n    </tr>\n    <tr>\n      <th>17</th>\n      <td>2008-11-07 18:00:00</td>\n      <td>Jadar Radom</td>\n      <td>1</td>\n      <td>64.0</td>\n      <td>97.0</td>\n      <td>0.0</td>\n      <td>17.0</td>\n      <td>0.00</td>\n      <td>93.0</td>\n      <td>4</td>\n      <td>...</td>\n      <td>0.407778</td>\n      <td>20.777778</td>\n      <td>5.555556</td>\n      <td>12.666667</td>\n      <td>11.444444</td>\n      <td>26.777778</td>\n      <td>2.222222</td>\n      <td>2.888889</td>\n      <td>2.333333</td>\n      <td>0.777778</td>\n    </tr>\n  </tbody>\n</table>\n<p>2624 rows × 69 columns</p>\n</div>"
     },
     "execution_count": 292,
     "metadata": {},
     "output_type": "execute_result"
    }
   ],
   "source": [
    "matches_rolling[~matches_rolling.index.duplicated(keep='first')].sort_values('Date', ascending=False)"
   ],
   "metadata": {
    "collapsed": false
   }
  },
  {
   "cell_type": "code",
   "execution_count": 293,
   "outputs": [
    {
     "data": {
      "text/plain": "                    Date                  Team_1  Score   Sum     BP  Ratio  \\\n2638 2023-03-05 14:45:00        Projekt Warszawa      3  71.0   30.0   37.0   \n2637 2023-03-04 20:30:00  ZAKSA Kędzierzyn-Koźle      3  63.0   27.0   33.0   \n2636 2023-03-04 17:30:00    Ślepsk Malow Suwałki      1  51.0   12.0   20.0   \n2635 2023-03-04 14:45:00         Warta Zawiercie      3  50.0   23.0   30.0   \n2634 2023-03-03 17:30:00      Barkom Każany Lwów      0  36.0   10.0   13.0   \n...                  ...                     ...    ...   ...    ...    ...   \n19   2008-11-09 15:00:00      PGE Skra Bełchatów      2  67.0   95.0    7.0   \n18   2008-11-08 17:00:00             AZS Olsztyn      3  58.0   74.0    6.0   \n15   2008-11-07 18:00:00        Projekt Warszawa      0  50.0   73.0    3.0   \n16   2008-11-07 18:00:00            Trefl Gdańsk      3  77.0  102.0    5.0   \n17   2008-11-07 18:00:00  ZAKSA Kędzierzyn-Koźle      3  74.0  106.0    4.0   \n\n      Srv_Sum  Srv_Err  Srv_Ace  Srv_Eff  ...  Srv_Err_SAvg_rolling  \\\n2638     97.0     20.0      8.0      -10  ...              4.083333   \n2637     97.0     16.0      7.0       -3  ...              3.500000   \n2636     71.0     14.0      7.0       -7  ...              3.688889   \n2635     73.0     13.0     10.0       -2  ...              4.077778   \n2634     58.0     10.0      3.0      -10  ...              3.222222   \n...       ...      ...      ...      ...  ...                   ...   \n19       14.0      1.4     94.0        6  ...              0.696389   \n18        5.0      2.0     50.0        5  ...              0.345278   \n15       19.0      1.0     69.0        6  ...              0.224167   \n16       14.0      1.0     86.0        8  ...              0.231667   \n17       13.0      1.0     80.0        0  ...              0.350833   \n\n      Srv_Ace_SAvg_rolling  Rec_Sum_SAvg_rolling  Rec_Err_SAvg_rolling  \\\n2638              1.333333             17.083333              1.916667   \n2637              2.000000             18.250000              1.305556   \n2636              2.000000             16.777778              1.355556   \n2635              1.977778             14.061111              1.222222   \n2634              1.333333             20.777778              2.888889   \n...                    ...                   ...                   ...   \n19               17.277778              4.888889              9.694444   \n18               19.666667              6.138889             11.611111   \n15               19.450000              6.050000             10.166667   \n16               18.116667              3.550000             10.400000   \n17               18.950000              4.816667             11.850000   \n\n      Att_Sum_SAvg_rolling  Att_Err_SAvg_rolling  Att_Blk_SAvg_rolling  \\\n2638             23.500000              1.500000              1.583333   \n2637             27.750000              2.916667              2.694444   \n2636             22.577778              0.911111              1.777778   \n2635             23.011111              1.244444              1.555556   \n2634             22.777778              2.000000              2.222222   \n...                    ...                   ...                   ...   \n19                8.750000             25.361111              2.194444   \n18                7.277778             27.583333              2.416667   \n15                6.166667             27.250000              2.583333   \n16                7.916667             26.483333              2.016667   \n17                8.033333             27.700000              2.333333   \n\n      Att_Kill_SAvg_rolling  Blk_Sum_SAvg_rolling  Blk_As_SAvg_rolling  \n2638              13.083333              2.666667             3.000000  \n2637              12.833333              2.305556             2.750000  \n2636              12.777778              2.288889             2.022222  \n2635              12.333333              2.255556             3.111111  \n2634               9.777778              2.111111             1.555556  \n...                     ...                   ...                  ...  \n19                 1.777778              2.694444             0.765833  \n18                 2.000000              2.583333             0.729167  \n15                 2.383333              2.183333             0.465833  \n16                 2.933333              1.550000             0.364167  \n17                 2.866667              2.466667             0.593333  \n\n[2624 rows x 69 columns]",
      "text/html": "<div>\n<style scoped>\n    .dataframe tbody tr th:only-of-type {\n        vertical-align: middle;\n    }\n\n    .dataframe tbody tr th {\n        vertical-align: top;\n    }\n\n    .dataframe thead th {\n        text-align: right;\n    }\n</style>\n<table border=\"1\" class=\"dataframe\">\n  <thead>\n    <tr style=\"text-align: right;\">\n      <th></th>\n      <th>Date</th>\n      <th>Team_1</th>\n      <th>Score</th>\n      <th>Sum</th>\n      <th>BP</th>\n      <th>Ratio</th>\n      <th>Srv_Sum</th>\n      <th>Srv_Err</th>\n      <th>Srv_Ace</th>\n      <th>Srv_Eff</th>\n      <th>...</th>\n      <th>Srv_Err_SAvg_rolling</th>\n      <th>Srv_Ace_SAvg_rolling</th>\n      <th>Rec_Sum_SAvg_rolling</th>\n      <th>Rec_Err_SAvg_rolling</th>\n      <th>Att_Sum_SAvg_rolling</th>\n      <th>Att_Err_SAvg_rolling</th>\n      <th>Att_Blk_SAvg_rolling</th>\n      <th>Att_Kill_SAvg_rolling</th>\n      <th>Blk_Sum_SAvg_rolling</th>\n      <th>Blk_As_SAvg_rolling</th>\n    </tr>\n  </thead>\n  <tbody>\n    <tr>\n      <th>2638</th>\n      <td>2023-03-05 14:45:00</td>\n      <td>Projekt Warszawa</td>\n      <td>3</td>\n      <td>71.0</td>\n      <td>30.0</td>\n      <td>37.0</td>\n      <td>97.0</td>\n      <td>20.0</td>\n      <td>8.0</td>\n      <td>-10</td>\n      <td>...</td>\n      <td>4.083333</td>\n      <td>1.333333</td>\n      <td>17.083333</td>\n      <td>1.916667</td>\n      <td>23.500000</td>\n      <td>1.500000</td>\n      <td>1.583333</td>\n      <td>13.083333</td>\n      <td>2.666667</td>\n      <td>3.000000</td>\n    </tr>\n    <tr>\n      <th>2637</th>\n      <td>2023-03-04 20:30:00</td>\n      <td>ZAKSA Kędzierzyn-Koźle</td>\n      <td>3</td>\n      <td>63.0</td>\n      <td>27.0</td>\n      <td>33.0</td>\n      <td>97.0</td>\n      <td>16.0</td>\n      <td>7.0</td>\n      <td>-3</td>\n      <td>...</td>\n      <td>3.500000</td>\n      <td>2.000000</td>\n      <td>18.250000</td>\n      <td>1.305556</td>\n      <td>27.750000</td>\n      <td>2.916667</td>\n      <td>2.694444</td>\n      <td>12.833333</td>\n      <td>2.305556</td>\n      <td>2.750000</td>\n    </tr>\n    <tr>\n      <th>2636</th>\n      <td>2023-03-04 17:30:00</td>\n      <td>Ślepsk Malow Suwałki</td>\n      <td>1</td>\n      <td>51.0</td>\n      <td>12.0</td>\n      <td>20.0</td>\n      <td>71.0</td>\n      <td>14.0</td>\n      <td>7.0</td>\n      <td>-7</td>\n      <td>...</td>\n      <td>3.688889</td>\n      <td>2.000000</td>\n      <td>16.777778</td>\n      <td>1.355556</td>\n      <td>22.577778</td>\n      <td>0.911111</td>\n      <td>1.777778</td>\n      <td>12.777778</td>\n      <td>2.288889</td>\n      <td>2.022222</td>\n    </tr>\n    <tr>\n      <th>2635</th>\n      <td>2023-03-04 14:45:00</td>\n      <td>Warta Zawiercie</td>\n      <td>3</td>\n      <td>50.0</td>\n      <td>23.0</td>\n      <td>30.0</td>\n      <td>73.0</td>\n      <td>13.0</td>\n      <td>10.0</td>\n      <td>-2</td>\n      <td>...</td>\n      <td>4.077778</td>\n      <td>1.977778</td>\n      <td>14.061111</td>\n      <td>1.222222</td>\n      <td>23.011111</td>\n      <td>1.244444</td>\n      <td>1.555556</td>\n      <td>12.333333</td>\n      <td>2.255556</td>\n      <td>3.111111</td>\n    </tr>\n    <tr>\n      <th>2634</th>\n      <td>2023-03-03 17:30:00</td>\n      <td>Barkom Każany Lwów</td>\n      <td>0</td>\n      <td>36.0</td>\n      <td>10.0</td>\n      <td>13.0</td>\n      <td>58.0</td>\n      <td>10.0</td>\n      <td>3.0</td>\n      <td>-10</td>\n      <td>...</td>\n      <td>3.222222</td>\n      <td>1.333333</td>\n      <td>20.777778</td>\n      <td>2.888889</td>\n      <td>22.777778</td>\n      <td>2.000000</td>\n      <td>2.222222</td>\n      <td>9.777778</td>\n      <td>2.111111</td>\n      <td>1.555556</td>\n    </tr>\n    <tr>\n      <th>...</th>\n      <td>...</td>\n      <td>...</td>\n      <td>...</td>\n      <td>...</td>\n      <td>...</td>\n      <td>...</td>\n      <td>...</td>\n      <td>...</td>\n      <td>...</td>\n      <td>...</td>\n      <td>...</td>\n      <td>...</td>\n      <td>...</td>\n      <td>...</td>\n      <td>...</td>\n      <td>...</td>\n      <td>...</td>\n      <td>...</td>\n      <td>...</td>\n      <td>...</td>\n      <td>...</td>\n    </tr>\n    <tr>\n      <th>19</th>\n      <td>2008-11-09 15:00:00</td>\n      <td>PGE Skra Bełchatów</td>\n      <td>2</td>\n      <td>67.0</td>\n      <td>95.0</td>\n      <td>7.0</td>\n      <td>14.0</td>\n      <td>1.4</td>\n      <td>94.0</td>\n      <td>6</td>\n      <td>...</td>\n      <td>0.696389</td>\n      <td>17.277778</td>\n      <td>4.888889</td>\n      <td>9.694444</td>\n      <td>8.750000</td>\n      <td>25.361111</td>\n      <td>2.194444</td>\n      <td>1.777778</td>\n      <td>2.694444</td>\n      <td>0.765833</td>\n    </tr>\n    <tr>\n      <th>18</th>\n      <td>2008-11-08 17:00:00</td>\n      <td>AZS Olsztyn</td>\n      <td>3</td>\n      <td>58.0</td>\n      <td>74.0</td>\n      <td>6.0</td>\n      <td>5.0</td>\n      <td>2.0</td>\n      <td>50.0</td>\n      <td>5</td>\n      <td>...</td>\n      <td>0.345278</td>\n      <td>19.666667</td>\n      <td>6.138889</td>\n      <td>11.611111</td>\n      <td>7.277778</td>\n      <td>27.583333</td>\n      <td>2.416667</td>\n      <td>2.000000</td>\n      <td>2.583333</td>\n      <td>0.729167</td>\n    </tr>\n    <tr>\n      <th>15</th>\n      <td>2008-11-07 18:00:00</td>\n      <td>Projekt Warszawa</td>\n      <td>0</td>\n      <td>50.0</td>\n      <td>73.0</td>\n      <td>3.0</td>\n      <td>19.0</td>\n      <td>1.0</td>\n      <td>69.0</td>\n      <td>6</td>\n      <td>...</td>\n      <td>0.224167</td>\n      <td>19.450000</td>\n      <td>6.050000</td>\n      <td>10.166667</td>\n      <td>6.166667</td>\n      <td>27.250000</td>\n      <td>2.583333</td>\n      <td>2.383333</td>\n      <td>2.183333</td>\n      <td>0.465833</td>\n    </tr>\n    <tr>\n      <th>16</th>\n      <td>2008-11-07 18:00:00</td>\n      <td>Trefl Gdańsk</td>\n      <td>3</td>\n      <td>77.0</td>\n      <td>102.0</td>\n      <td>5.0</td>\n      <td>14.0</td>\n      <td>1.0</td>\n      <td>86.0</td>\n      <td>8</td>\n      <td>...</td>\n      <td>0.231667</td>\n      <td>18.116667</td>\n      <td>3.550000</td>\n      <td>10.400000</td>\n      <td>7.916667</td>\n      <td>26.483333</td>\n      <td>2.016667</td>\n      <td>2.933333</td>\n      <td>1.550000</td>\n      <td>0.364167</td>\n    </tr>\n    <tr>\n      <th>17</th>\n      <td>2008-11-07 18:00:00</td>\n      <td>ZAKSA Kędzierzyn-Koźle</td>\n      <td>3</td>\n      <td>74.0</td>\n      <td>106.0</td>\n      <td>4.0</td>\n      <td>13.0</td>\n      <td>1.0</td>\n      <td>80.0</td>\n      <td>0</td>\n      <td>...</td>\n      <td>0.350833</td>\n      <td>18.950000</td>\n      <td>4.816667</td>\n      <td>11.850000</td>\n      <td>8.033333</td>\n      <td>27.700000</td>\n      <td>2.333333</td>\n      <td>2.866667</td>\n      <td>2.466667</td>\n      <td>0.593333</td>\n    </tr>\n  </tbody>\n</table>\n<p>2624 rows × 69 columns</p>\n</div>"
     },
     "execution_count": 293,
     "metadata": {},
     "output_type": "execute_result"
    }
   ],
   "source": [
    "matches_rolling[~matches_rolling.index.duplicated(keep='last')].sort_values('Date', ascending=False)"
   ],
   "metadata": {
    "collapsed": false
   }
  },
  {
   "cell_type": "code",
   "execution_count": 295,
   "outputs": [],
   "source": [
    "merged_df = matches_rolling[~matches_rolling.index.duplicated(keep='first')].join(matches_rolling[~matches_rolling.index.duplicated(keep='last')].loc[:,'Team_1':], lsuffix='_T1', rsuffix='_T2')"
   ],
   "metadata": {
    "collapsed": false
   }
  },
  {
   "cell_type": "code",
   "execution_count": 297,
   "outputs": [
    {
     "data": {
      "text/plain": "                    Date           Team_1_T1  Score_T1  Sum_T1  BP_T1  \\\n2638 2023-03-05 14:45:00         LUK  Lublin         1    51.0   17.0   \n2637 2023-03-04 20:30:00        Cuprum Lubin         1    63.0   19.0   \n2636 2023-03-04 17:30:00  Jastrzębski Węgiel         3    74.0   31.0   \n2635 2023-03-04 14:45:00      Asseco Resovia         0    40.0    9.0   \n2634 2023-03-03 17:30:00         AZS Olsztyn         3    55.0   24.0   \n...                  ...                 ...       ...     ...    ...   \n19   2008-11-09 15:00:00  Jastrzębski Węgiel         3    72.0   93.0   \n18   2008-11-08 17:00:00     AZS Częstochowa         0    47.0   59.0   \n15   2008-11-07 18:00:00      Asseco Resovia         3    53.0   79.0   \n16   2008-11-07 18:00:00    Chemik Bydgoszcz         2    69.0  103.0   \n17   2008-11-07 18:00:00         Jadar Radom         1    64.0   97.0   \n\n      Ratio_T1  Srv_Sum_T1  Srv_Err_T1  Srv_Ace_T1  Srv_Eff_T1  ...  \\\n2638      17.0        81.0       16.00         6.0          -8  ...   \n2637      25.0        88.0       23.00         9.0         -15  ...   \n2636      48.0        96.0       17.00         9.0          -2  ...   \n2635       6.0        59.0       19.00         3.0         -25  ...   \n2634      33.0        73.0       14.00         6.0          -4  ...   \n...        ...         ...         ...         ...         ...  ...   \n19         5.0        14.0        1.00        81.0           7  ...   \n18         5.0         9.0        1.67        69.0           6  ...   \n15         6.0        10.0        2.00        54.0           3  ...   \n16         8.0        16.0        1.60        86.0           5  ...   \n17         0.0        17.0        0.00        93.0           4  ...   \n\n      Srv_Err_SAvg_rolling_T2  Srv_Ace_SAvg_rolling_T2  \\\n2638                 4.083333                 1.333333   \n2637                 3.500000                 2.000000   \n2636                 3.688889                 2.000000   \n2635                 4.077778                 1.977778   \n2634                 3.222222                 1.333333   \n...                       ...                      ...   \n19                   0.696389                17.277778   \n18                   0.345278                19.666667   \n15                   0.224167                19.450000   \n16                   0.231667                18.116667   \n17                   0.350833                18.950000   \n\n      Rec_Sum_SAvg_rolling_T2  Rec_Err_SAvg_rolling_T2  \\\n2638                17.083333                 1.916667   \n2637                18.250000                 1.305556   \n2636                16.777778                 1.355556   \n2635                14.061111                 1.222222   \n2634                20.777778                 2.888889   \n...                       ...                      ...   \n19                   4.888889                 9.694444   \n18                   6.138889                11.611111   \n15                   6.050000                10.166667   \n16                   3.550000                10.400000   \n17                   4.816667                11.850000   \n\n      Att_Sum_SAvg_rolling_T2  Att_Err_SAvg_rolling_T2  \\\n2638                23.500000                 1.500000   \n2637                27.750000                 2.916667   \n2636                22.577778                 0.911111   \n2635                23.011111                 1.244444   \n2634                22.777778                 2.000000   \n...                       ...                      ...   \n19                   8.750000                25.361111   \n18                   7.277778                27.583333   \n15                   6.166667                27.250000   \n16                   7.916667                26.483333   \n17                   8.033333                27.700000   \n\n      Att_Blk_SAvg_rolling_T2  Att_Kill_SAvg_rolling_T2  \\\n2638                 1.583333                 13.083333   \n2637                 2.694444                 12.833333   \n2636                 1.777778                 12.777778   \n2635                 1.555556                 12.333333   \n2634                 2.222222                  9.777778   \n...                       ...                       ...   \n19                   2.194444                  1.777778   \n18                   2.416667                  2.000000   \n15                   2.583333                  2.383333   \n16                   2.016667                  2.933333   \n17                   2.333333                  2.866667   \n\n      Blk_Sum_SAvg_rolling_T2  Blk_As_SAvg_rolling_T2  \n2638                 2.666667                3.000000  \n2637                 2.305556                2.750000  \n2636                 2.288889                2.022222  \n2635                 2.255556                3.111111  \n2634                 2.111111                1.555556  \n...                       ...                     ...  \n19                   2.694444                0.765833  \n18                   2.583333                0.729167  \n15                   2.183333                0.465833  \n16                   1.550000                0.364167  \n17                   2.466667                0.593333  \n\n[2624 rows x 137 columns]",
      "text/html": "<div>\n<style scoped>\n    .dataframe tbody tr th:only-of-type {\n        vertical-align: middle;\n    }\n\n    .dataframe tbody tr th {\n        vertical-align: top;\n    }\n\n    .dataframe thead th {\n        text-align: right;\n    }\n</style>\n<table border=\"1\" class=\"dataframe\">\n  <thead>\n    <tr style=\"text-align: right;\">\n      <th></th>\n      <th>Date</th>\n      <th>Team_1_T1</th>\n      <th>Score_T1</th>\n      <th>Sum_T1</th>\n      <th>BP_T1</th>\n      <th>Ratio_T1</th>\n      <th>Srv_Sum_T1</th>\n      <th>Srv_Err_T1</th>\n      <th>Srv_Ace_T1</th>\n      <th>Srv_Eff_T1</th>\n      <th>...</th>\n      <th>Srv_Err_SAvg_rolling_T2</th>\n      <th>Srv_Ace_SAvg_rolling_T2</th>\n      <th>Rec_Sum_SAvg_rolling_T2</th>\n      <th>Rec_Err_SAvg_rolling_T2</th>\n      <th>Att_Sum_SAvg_rolling_T2</th>\n      <th>Att_Err_SAvg_rolling_T2</th>\n      <th>Att_Blk_SAvg_rolling_T2</th>\n      <th>Att_Kill_SAvg_rolling_T2</th>\n      <th>Blk_Sum_SAvg_rolling_T2</th>\n      <th>Blk_As_SAvg_rolling_T2</th>\n    </tr>\n  </thead>\n  <tbody>\n    <tr>\n      <th>2638</th>\n      <td>2023-03-05 14:45:00</td>\n      <td>LUK  Lublin</td>\n      <td>1</td>\n      <td>51.0</td>\n      <td>17.0</td>\n      <td>17.0</td>\n      <td>81.0</td>\n      <td>16.00</td>\n      <td>6.0</td>\n      <td>-8</td>\n      <td>...</td>\n      <td>4.083333</td>\n      <td>1.333333</td>\n      <td>17.083333</td>\n      <td>1.916667</td>\n      <td>23.500000</td>\n      <td>1.500000</td>\n      <td>1.583333</td>\n      <td>13.083333</td>\n      <td>2.666667</td>\n      <td>3.000000</td>\n    </tr>\n    <tr>\n      <th>2637</th>\n      <td>2023-03-04 20:30:00</td>\n      <td>Cuprum Lubin</td>\n      <td>1</td>\n      <td>63.0</td>\n      <td>19.0</td>\n      <td>25.0</td>\n      <td>88.0</td>\n      <td>23.00</td>\n      <td>9.0</td>\n      <td>-15</td>\n      <td>...</td>\n      <td>3.500000</td>\n      <td>2.000000</td>\n      <td>18.250000</td>\n      <td>1.305556</td>\n      <td>27.750000</td>\n      <td>2.916667</td>\n      <td>2.694444</td>\n      <td>12.833333</td>\n      <td>2.305556</td>\n      <td>2.750000</td>\n    </tr>\n    <tr>\n      <th>2636</th>\n      <td>2023-03-04 17:30:00</td>\n      <td>Jastrzębski Węgiel</td>\n      <td>3</td>\n      <td>74.0</td>\n      <td>31.0</td>\n      <td>48.0</td>\n      <td>96.0</td>\n      <td>17.00</td>\n      <td>9.0</td>\n      <td>-2</td>\n      <td>...</td>\n      <td>3.688889</td>\n      <td>2.000000</td>\n      <td>16.777778</td>\n      <td>1.355556</td>\n      <td>22.577778</td>\n      <td>0.911111</td>\n      <td>1.777778</td>\n      <td>12.777778</td>\n      <td>2.288889</td>\n      <td>2.022222</td>\n    </tr>\n    <tr>\n      <th>2635</th>\n      <td>2023-03-04 14:45:00</td>\n      <td>Asseco Resovia</td>\n      <td>0</td>\n      <td>40.0</td>\n      <td>9.0</td>\n      <td>6.0</td>\n      <td>59.0</td>\n      <td>19.00</td>\n      <td>3.0</td>\n      <td>-25</td>\n      <td>...</td>\n      <td>4.077778</td>\n      <td>1.977778</td>\n      <td>14.061111</td>\n      <td>1.222222</td>\n      <td>23.011111</td>\n      <td>1.244444</td>\n      <td>1.555556</td>\n      <td>12.333333</td>\n      <td>2.255556</td>\n      <td>3.111111</td>\n    </tr>\n    <tr>\n      <th>2634</th>\n      <td>2023-03-03 17:30:00</td>\n      <td>AZS Olsztyn</td>\n      <td>3</td>\n      <td>55.0</td>\n      <td>24.0</td>\n      <td>33.0</td>\n      <td>73.0</td>\n      <td>14.00</td>\n      <td>6.0</td>\n      <td>-4</td>\n      <td>...</td>\n      <td>3.222222</td>\n      <td>1.333333</td>\n      <td>20.777778</td>\n      <td>2.888889</td>\n      <td>22.777778</td>\n      <td>2.000000</td>\n      <td>2.222222</td>\n      <td>9.777778</td>\n      <td>2.111111</td>\n      <td>1.555556</td>\n    </tr>\n    <tr>\n      <th>...</th>\n      <td>...</td>\n      <td>...</td>\n      <td>...</td>\n      <td>...</td>\n      <td>...</td>\n      <td>...</td>\n      <td>...</td>\n      <td>...</td>\n      <td>...</td>\n      <td>...</td>\n      <td>...</td>\n      <td>...</td>\n      <td>...</td>\n      <td>...</td>\n      <td>...</td>\n      <td>...</td>\n      <td>...</td>\n      <td>...</td>\n      <td>...</td>\n      <td>...</td>\n      <td>...</td>\n    </tr>\n    <tr>\n      <th>19</th>\n      <td>2008-11-09 15:00:00</td>\n      <td>Jastrzębski Węgiel</td>\n      <td>3</td>\n      <td>72.0</td>\n      <td>93.0</td>\n      <td>5.0</td>\n      <td>14.0</td>\n      <td>1.00</td>\n      <td>81.0</td>\n      <td>7</td>\n      <td>...</td>\n      <td>0.696389</td>\n      <td>17.277778</td>\n      <td>4.888889</td>\n      <td>9.694444</td>\n      <td>8.750000</td>\n      <td>25.361111</td>\n      <td>2.194444</td>\n      <td>1.777778</td>\n      <td>2.694444</td>\n      <td>0.765833</td>\n    </tr>\n    <tr>\n      <th>18</th>\n      <td>2008-11-08 17:00:00</td>\n      <td>AZS Częstochowa</td>\n      <td>0</td>\n      <td>47.0</td>\n      <td>59.0</td>\n      <td>5.0</td>\n      <td>9.0</td>\n      <td>1.67</td>\n      <td>69.0</td>\n      <td>6</td>\n      <td>...</td>\n      <td>0.345278</td>\n      <td>19.666667</td>\n      <td>6.138889</td>\n      <td>11.611111</td>\n      <td>7.277778</td>\n      <td>27.583333</td>\n      <td>2.416667</td>\n      <td>2.000000</td>\n      <td>2.583333</td>\n      <td>0.729167</td>\n    </tr>\n    <tr>\n      <th>15</th>\n      <td>2008-11-07 18:00:00</td>\n      <td>Asseco Resovia</td>\n      <td>3</td>\n      <td>53.0</td>\n      <td>79.0</td>\n      <td>6.0</td>\n      <td>10.0</td>\n      <td>2.00</td>\n      <td>54.0</td>\n      <td>3</td>\n      <td>...</td>\n      <td>0.224167</td>\n      <td>19.450000</td>\n      <td>6.050000</td>\n      <td>10.166667</td>\n      <td>6.166667</td>\n      <td>27.250000</td>\n      <td>2.583333</td>\n      <td>2.383333</td>\n      <td>2.183333</td>\n      <td>0.465833</td>\n    </tr>\n    <tr>\n      <th>16</th>\n      <td>2008-11-07 18:00:00</td>\n      <td>Chemik Bydgoszcz</td>\n      <td>2</td>\n      <td>69.0</td>\n      <td>103.0</td>\n      <td>8.0</td>\n      <td>16.0</td>\n      <td>1.60</td>\n      <td>86.0</td>\n      <td>5</td>\n      <td>...</td>\n      <td>0.231667</td>\n      <td>18.116667</td>\n      <td>3.550000</td>\n      <td>10.400000</td>\n      <td>7.916667</td>\n      <td>26.483333</td>\n      <td>2.016667</td>\n      <td>2.933333</td>\n      <td>1.550000</td>\n      <td>0.364167</td>\n    </tr>\n    <tr>\n      <th>17</th>\n      <td>2008-11-07 18:00:00</td>\n      <td>Jadar Radom</td>\n      <td>1</td>\n      <td>64.0</td>\n      <td>97.0</td>\n      <td>0.0</td>\n      <td>17.0</td>\n      <td>0.00</td>\n      <td>93.0</td>\n      <td>4</td>\n      <td>...</td>\n      <td>0.350833</td>\n      <td>18.950000</td>\n      <td>4.816667</td>\n      <td>11.850000</td>\n      <td>8.033333</td>\n      <td>27.700000</td>\n      <td>2.333333</td>\n      <td>2.866667</td>\n      <td>2.466667</td>\n      <td>0.593333</td>\n    </tr>\n  </tbody>\n</table>\n<p>2624 rows × 137 columns</p>\n</div>"
     },
     "execution_count": 297,
     "metadata": {},
     "output_type": "execute_result"
    }
   ],
   "source": [
    "merged_df.sort_values('Date', ascending=False)"
   ],
   "metadata": {
    "collapsed": false
   }
  },
  {
   "cell_type": "code",
   "execution_count": 298,
   "outputs": [
    {
     "data": {
      "text/plain": "5209"
     },
     "execution_count": 298,
     "metadata": {},
     "output_type": "execute_result"
    }
   ],
   "source": [
    "len(matches_rolling)"
   ],
   "metadata": {
    "collapsed": false
   }
  },
  {
   "cell_type": "code",
   "execution_count": null,
   "outputs": [],
   "source": [],
   "metadata": {
    "collapsed": false
   }
  }
 ],
 "metadata": {
  "kernelspec": {
   "display_name": "Python 3",
   "language": "python",
   "name": "python3"
  },
  "language_info": {
   "codemirror_mode": {
    "name": "ipython",
    "version": 2
   },
   "file_extension": ".py",
   "mimetype": "text/x-python",
   "name": "python",
   "nbconvert_exporter": "python",
   "pygments_lexer": "ipython2",
   "version": "2.7.6"
  }
 },
 "nbformat": 4,
 "nbformat_minor": 0
}
