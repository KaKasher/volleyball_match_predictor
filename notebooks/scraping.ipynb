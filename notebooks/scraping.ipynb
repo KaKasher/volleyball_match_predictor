{
 "cells": [
  {
   "cell_type": "code",
   "execution_count": 1,
   "metadata": {
    "collapsed": true
   },
   "outputs": [],
   "source": [
    "import requests\n",
    "from bs4 import BeautifulSoup\n",
    "import pandas as pd\n",
    "from selenium import webdriver"
   ]
  },
  {
   "cell_type": "code",
   "execution_count": 2,
   "outputs": [],
   "source": [
    "def get_match_urls(url):\n",
    "    r = requests.get(url)\n",
    "    soup = BeautifulSoup(r.text)\n",
    "    match_table = soup.find(id='table-small')\n",
    "    table_links = match_table.find_all('a')\n",
    "    links = [link.get('href') for link in table_links]\n",
    "    links = [link for link in links if '/games/' in link]\n",
    "    match_urls = [f'https://www.plusliga.pl{link}' for link in links]\n",
    "\n",
    "    return match_urls"
   ],
   "metadata": {
    "collapsed": false
   }
  },
  {
   "cell_type": "code",
   "execution_count": 36,
   "outputs": [],
   "source": [
    "def get_game_data(game_url):\n",
    "    r = requests.get(game_url)\n",
    "    soup = BeautifulSoup(r.text)\n",
    "\n",
    "    teams = soup.find_all('h3')\n",
    "    teams = teams[-3:-1]\n",
    "    team1 = teams[0].get_text()\n",
    "    team2 = teams[1].get_text()\n",
    "\n",
    "    table1, table2 = soup.find_all('table')[:2]\n",
    "\n",
    "    last_row = [row.get_text() for row in table1.find_all('tr')[-1]]\n",
    "    last_row_cleaned = [e for e in last_row if e not in ['\\n', 'Łącznie', '\\xa0']]\n",
    "    last_row2 = [row.get_text() for row in table2.find_all('tr')[-1]]\n",
    "    last_row_cleaned2 = [e for e in last_row2 if e not in ['\\n', 'Łącznie', '\\xa0']]\n",
    "\n",
    "    game_result = soup.find_all('div',{'class':'gameresult'})[-1].get_text().split()\n",
    "    team1_score = game_result[0]\n",
    "    team2_score = game_result[-1]\n",
    "\n",
    "    game_date = soup.find_all('div', {'class': 'khanded'})[-1].get_text().strip()\n",
    "    full_row_data = [game_date, team1, team2, team1_score, team2_score] + last_row_cleaned + last_row_cleaned2\n",
    "\n",
    "    return full_row_data"
   ],
   "metadata": {
    "collapsed": false
   }
  },
  {
   "cell_type": "code",
   "execution_count": 4,
   "outputs": [],
   "source": [
    "seasons_urls = ['https://www.plusliga.pl/games/tour/2021.html']"
   ],
   "metadata": {
    "collapsed": false
   }
  },
  {
   "cell_type": "code",
   "execution_count": 5,
   "outputs": [],
   "source": [
    "all_match_urls = [get_match_urls(url) for url in seasons_urls]"
   ],
   "metadata": {
    "collapsed": false
   }
  },
  {
   "cell_type": "code",
   "execution_count": 6,
   "outputs": [],
   "source": [
    "all_match_urls_clean = [item for sublist in all_match_urls for item in sublist]"
   ],
   "metadata": {
    "collapsed": false
   }
  },
  {
   "cell_type": "code",
   "execution_count": 7,
   "outputs": [
    {
     "data": {
      "text/plain": "['https://www.plusliga.pl/games/id/1102022/tour/2021.html',\n 'https://www.plusliga.pl/games/id/1102021/tour/2021.html',\n 'https://www.plusliga.pl/games/id/1102020/tour/2021.html',\n 'https://www.plusliga.pl/games/id/1102019/tour/2021.html',\n 'https://www.plusliga.pl/games/id/1102025/tour/2021.html',\n 'https://www.plusliga.pl/games/id/1101999/tour/2021.html',\n 'https://www.plusliga.pl/games/id/1102002/tour/2021.html',\n 'https://www.plusliga.pl/games/id/1102024/tour/2021.html',\n 'https://www.plusliga.pl/games/id/1102000/tour/2021.html',\n 'https://www.plusliga.pl/games/id/1102001/tour/2021.html',\n 'https://www.plusliga.pl/games/id/1102018/tour/2021.html',\n 'https://www.plusliga.pl/games/id/1102015/tour/2021.html',\n 'https://www.plusliga.pl/games/id/1102027/tour/2021.html',\n 'https://www.plusliga.pl/games/id/1102017/tour/2021.html',\n 'https://www.plusliga.pl/games/id/1102016/tour/2021.html',\n 'https://www.plusliga.pl/games/id/1102007/tour/2021.html',\n 'https://www.plusliga.pl/games/id/1102006/tour/2021.html',\n 'https://www.plusliga.pl/games/id/1102005/tour/2021.html',\n 'https://www.plusliga.pl/games/id/1102028/tour/2021.html',\n 'https://www.plusliga.pl/games/id/1102010/tour/2021.html',\n 'https://www.plusliga.pl/games/id/1102009/tour/2021.html',\n 'https://www.plusliga.pl/games/id/1102008/tour/2021.html',\n 'https://www.plusliga.pl/games/id/1102029/tour/2021.html',\n 'https://www.plusliga.pl/games/id/1102012/tour/2021.html',\n 'https://www.plusliga.pl/games/id/1102011/tour/2021.html',\n 'https://www.plusliga.pl/games/id/1102014/tour/2021.html',\n 'https://www.plusliga.pl/games/id/1102013/tour/2021.html',\n 'https://www.plusliga.pl/games/id/1102003/tour/2021.html',\n 'https://www.plusliga.pl/games/id/1102004/tour/2021.html',\n 'https://www.plusliga.pl/games/id/1101998/tour/2021.html',\n 'https://www.plusliga.pl/games/id/1101997/tour/2021.html',\n 'https://www.plusliga.pl/games/id/1102033/tour/2021.html',\n 'https://www.plusliga.pl/games/id/1102032/tour/2021.html',\n 'https://www.plusliga.pl/games/id/1102031/tour/2021.html',\n 'https://www.plusliga.pl/games/id/1102036/tour/2021.html',\n 'https://www.plusliga.pl/games/id/1101578/tour/2021.html',\n 'https://www.plusliga.pl/games/id/1101577/tour/2021.html',\n 'https://www.plusliga.pl/games/id/1101576/tour/2021.html',\n 'https://www.plusliga.pl/games/id/1101575/tour/2021.html',\n 'https://www.plusliga.pl/games/id/1101574/tour/2021.html',\n 'https://www.plusliga.pl/games/id/1101573/tour/2021.html',\n 'https://www.plusliga.pl/games/id/1101572/tour/2021.html',\n 'https://www.plusliga.pl/games/id/1101571/tour/2021.html',\n 'https://www.plusliga.pl/games/id/1101570/tour/2021.html',\n 'https://www.plusliga.pl/games/id/1101569/tour/2021.html',\n 'https://www.plusliga.pl/games/id/1101568/tour/2021.html',\n 'https://www.plusliga.pl/games/id/1101567/tour/2021.html',\n 'https://www.plusliga.pl/games/id/1101566/tour/2021.html',\n 'https://www.plusliga.pl/games/id/1101565/tour/2021.html',\n 'https://www.plusliga.pl/games/id/1101564/tour/2021.html',\n 'https://www.plusliga.pl/games/id/1101563/tour/2021.html',\n 'https://www.plusliga.pl/games/id/1101562/tour/2021.html',\n 'https://www.plusliga.pl/games/id/1101561/tour/2021.html',\n 'https://www.plusliga.pl/games/id/1101560/tour/2021.html',\n 'https://www.plusliga.pl/games/id/1101559/tour/2021.html',\n 'https://www.plusliga.pl/games/id/1101558/tour/2021.html',\n 'https://www.plusliga.pl/games/id/1101557/tour/2021.html',\n 'https://www.plusliga.pl/games/id/1101556/tour/2021.html',\n 'https://www.plusliga.pl/games/id/1101555/tour/2021.html',\n 'https://www.plusliga.pl/games/id/1101554/tour/2021.html',\n 'https://www.plusliga.pl/games/id/1101553/tour/2021.html',\n 'https://www.plusliga.pl/games/id/1101552/tour/2021.html',\n 'https://www.plusliga.pl/games/id/1101551/tour/2021.html',\n 'https://www.plusliga.pl/games/id/1101550/tour/2021.html',\n 'https://www.plusliga.pl/games/id/1101549/tour/2021.html',\n 'https://www.plusliga.pl/games/id/1101548/tour/2021.html',\n 'https://www.plusliga.pl/games/id/1101547/tour/2021.html',\n 'https://www.plusliga.pl/games/id/1101546/tour/2021.html',\n 'https://www.plusliga.pl/games/id/1101545/tour/2021.html',\n 'https://www.plusliga.pl/games/id/1101544/tour/2021.html',\n 'https://www.plusliga.pl/games/id/1101543/tour/2021.html',\n 'https://www.plusliga.pl/games/id/1101542/tour/2021.html',\n 'https://www.plusliga.pl/games/id/1101541/tour/2021.html',\n 'https://www.plusliga.pl/games/id/1101540/tour/2021.html',\n 'https://www.plusliga.pl/games/id/1101539/tour/2021.html',\n 'https://www.plusliga.pl/games/id/1101538/tour/2021.html',\n 'https://www.plusliga.pl/games/id/1101537/tour/2021.html',\n 'https://www.plusliga.pl/games/id/1101536/tour/2021.html',\n 'https://www.plusliga.pl/games/id/1101535/tour/2021.html',\n 'https://www.plusliga.pl/games/id/1101534/tour/2021.html',\n 'https://www.plusliga.pl/games/id/1101533/tour/2021.html',\n 'https://www.plusliga.pl/games/id/1101532/tour/2021.html',\n 'https://www.plusliga.pl/games/id/1101531/tour/2021.html',\n 'https://www.plusliga.pl/games/id/1101530/tour/2021.html',\n 'https://www.plusliga.pl/games/id/1101529/tour/2021.html',\n 'https://www.plusliga.pl/games/id/1101528/tour/2021.html',\n 'https://www.plusliga.pl/games/id/1101527/tour/2021.html',\n 'https://www.plusliga.pl/games/id/1101526/tour/2021.html',\n 'https://www.plusliga.pl/games/id/1101525/tour/2021.html',\n 'https://www.plusliga.pl/games/id/1101524/tour/2021.html',\n 'https://www.plusliga.pl/games/id/1101523/tour/2021.html',\n 'https://www.plusliga.pl/games/id/1101522/tour/2021.html',\n 'https://www.plusliga.pl/games/id/1101521/tour/2021.html',\n 'https://www.plusliga.pl/games/id/1101520/tour/2021.html',\n 'https://www.plusliga.pl/games/id/1101519/tour/2021.html',\n 'https://www.plusliga.pl/games/id/1101518/tour/2021.html',\n 'https://www.plusliga.pl/games/id/1101517/tour/2021.html',\n 'https://www.plusliga.pl/games/id/1101516/tour/2021.html',\n 'https://www.plusliga.pl/games/id/1101515/tour/2021.html',\n 'https://www.plusliga.pl/games/id/1101514/tour/2021.html',\n 'https://www.plusliga.pl/games/id/1101513/tour/2021.html',\n 'https://www.plusliga.pl/games/id/1101512/tour/2021.html',\n 'https://www.plusliga.pl/games/id/1101511/tour/2021.html',\n 'https://www.plusliga.pl/games/id/1101510/tour/2021.html',\n 'https://www.plusliga.pl/games/id/1101509/tour/2021.html',\n 'https://www.plusliga.pl/games/id/1101508/tour/2021.html',\n 'https://www.plusliga.pl/games/id/1101507/tour/2021.html',\n 'https://www.plusliga.pl/games/id/1101506/tour/2021.html',\n 'https://www.plusliga.pl/games/id/1101505/tour/2021.html',\n 'https://www.plusliga.pl/games/id/1101504/tour/2021.html',\n 'https://www.plusliga.pl/games/id/1101503/tour/2021.html',\n 'https://www.plusliga.pl/games/id/1101502/tour/2021.html',\n 'https://www.plusliga.pl/games/id/1101501/tour/2021.html',\n 'https://www.plusliga.pl/games/id/1101500/tour/2021.html',\n 'https://www.plusliga.pl/games/id/1101499/tour/2021.html',\n 'https://www.plusliga.pl/games/id/1101498/tour/2021.html',\n 'https://www.plusliga.pl/games/id/1101497/tour/2021.html',\n 'https://www.plusliga.pl/games/id/1101496/tour/2021.html',\n 'https://www.plusliga.pl/games/id/1101495/tour/2021.html',\n 'https://www.plusliga.pl/games/id/1101494/tour/2021.html',\n 'https://www.plusliga.pl/games/id/1101493/tour/2021.html',\n 'https://www.plusliga.pl/games/id/1101492/tour/2021.html',\n 'https://www.plusliga.pl/games/id/1101491/tour/2021.html',\n 'https://www.plusliga.pl/games/id/1101490/tour/2021.html',\n 'https://www.plusliga.pl/games/id/1101489/tour/2021.html',\n 'https://www.plusliga.pl/games/id/1101488/tour/2021.html',\n 'https://www.plusliga.pl/games/id/1101487/tour/2021.html',\n 'https://www.plusliga.pl/games/id/1101486/tour/2021.html',\n 'https://www.plusliga.pl/games/id/1101485/tour/2021.html',\n 'https://www.plusliga.pl/games/id/1101484/tour/2021.html',\n 'https://www.plusliga.pl/games/id/1101483/tour/2021.html',\n 'https://www.plusliga.pl/games/id/1101482/tour/2021.html',\n 'https://www.plusliga.pl/games/id/1101481/tour/2021.html',\n 'https://www.plusliga.pl/games/id/1101480/tour/2021.html',\n 'https://www.plusliga.pl/games/id/1101479/tour/2021.html',\n 'https://www.plusliga.pl/games/id/1101478/tour/2021.html',\n 'https://www.plusliga.pl/games/id/1101477/tour/2021.html',\n 'https://www.plusliga.pl/games/id/1101476/tour/2021.html',\n 'https://www.plusliga.pl/games/id/1101475/tour/2021.html',\n 'https://www.plusliga.pl/games/id/1101474/tour/2021.html',\n 'https://www.plusliga.pl/games/id/1101473/tour/2021.html',\n 'https://www.plusliga.pl/games/id/1101472/tour/2021.html',\n 'https://www.plusliga.pl/games/id/1101471/tour/2021.html',\n 'https://www.plusliga.pl/games/id/1101470/tour/2021.html',\n 'https://www.plusliga.pl/games/id/1101469/tour/2021.html',\n 'https://www.plusliga.pl/games/id/1101468/tour/2021.html',\n 'https://www.plusliga.pl/games/id/1101467/tour/2021.html',\n 'https://www.plusliga.pl/games/id/1101466/tour/2021.html',\n 'https://www.plusliga.pl/games/id/1101465/tour/2021.html',\n 'https://www.plusliga.pl/games/id/1101464/tour/2021.html',\n 'https://www.plusliga.pl/games/id/1101463/tour/2021.html',\n 'https://www.plusliga.pl/games/id/1101462/tour/2021.html',\n 'https://www.plusliga.pl/games/id/1101461/tour/2021.html',\n 'https://www.plusliga.pl/games/id/1101460/tour/2021.html',\n 'https://www.plusliga.pl/games/id/1101459/tour/2021.html',\n 'https://www.plusliga.pl/games/id/1101458/tour/2021.html',\n 'https://www.plusliga.pl/games/id/1101457/tour/2021.html',\n 'https://www.plusliga.pl/games/id/1101456/tour/2021.html',\n 'https://www.plusliga.pl/games/id/1101455/tour/2021.html',\n 'https://www.plusliga.pl/games/id/1101454/tour/2021.html',\n 'https://www.plusliga.pl/games/id/1101453/tour/2021.html',\n 'https://www.plusliga.pl/games/id/1101452/tour/2021.html',\n 'https://www.plusliga.pl/games/id/1101451/tour/2021.html',\n 'https://www.plusliga.pl/games/id/1101450/tour/2021.html',\n 'https://www.plusliga.pl/games/id/1101449/tour/2021.html',\n 'https://www.plusliga.pl/games/id/1101448/tour/2021.html',\n 'https://www.plusliga.pl/games/id/1101447/tour/2021.html',\n 'https://www.plusliga.pl/games/id/1101446/tour/2021.html',\n 'https://www.plusliga.pl/games/id/1101445/tour/2021.html',\n 'https://www.plusliga.pl/games/id/1101444/tour/2021.html',\n 'https://www.plusliga.pl/games/id/1101443/tour/2021.html',\n 'https://www.plusliga.pl/games/id/1101442/tour/2021.html',\n 'https://www.plusliga.pl/games/id/1101441/tour/2021.html',\n 'https://www.plusliga.pl/games/id/1101440/tour/2021.html',\n 'https://www.plusliga.pl/games/id/1101439/tour/2021.html',\n 'https://www.plusliga.pl/games/id/1101438/tour/2021.html',\n 'https://www.plusliga.pl/games/id/1101437/tour/2021.html',\n 'https://www.plusliga.pl/games/id/1101436/tour/2021.html',\n 'https://www.plusliga.pl/games/id/1101435/tour/2021.html',\n 'https://www.plusliga.pl/games/id/1101434/tour/2021.html',\n 'https://www.plusliga.pl/games/id/1101433/tour/2021.html',\n 'https://www.plusliga.pl/games/id/1101432/tour/2021.html',\n 'https://www.plusliga.pl/games/id/1101431/tour/2021.html',\n 'https://www.plusliga.pl/games/id/1101430/tour/2021.html',\n 'https://www.plusliga.pl/games/id/1101429/tour/2021.html',\n 'https://www.plusliga.pl/games/id/1101428/tour/2021.html',\n 'https://www.plusliga.pl/games/id/1101427/tour/2021.html',\n 'https://www.plusliga.pl/games/id/1101426/tour/2021.html',\n 'https://www.plusliga.pl/games/id/1101425/tour/2021.html',\n 'https://www.plusliga.pl/games/id/1101424/tour/2021.html',\n 'https://www.plusliga.pl/games/id/1101423/tour/2021.html',\n 'https://www.plusliga.pl/games/id/1101422/tour/2021.html',\n 'https://www.plusliga.pl/games/id/1101421/tour/2021.html',\n 'https://www.plusliga.pl/games/id/1101420/tour/2021.html',\n 'https://www.plusliga.pl/games/id/1101419/tour/2021.html',\n 'https://www.plusliga.pl/games/id/1101418/tour/2021.html',\n 'https://www.plusliga.pl/games/id/1101417/tour/2021.html',\n 'https://www.plusliga.pl/games/id/1101416/tour/2021.html',\n 'https://www.plusliga.pl/games/id/1101415/tour/2021.html',\n 'https://www.plusliga.pl/games/id/1101414/tour/2021.html',\n 'https://www.plusliga.pl/games/id/1101413/tour/2021.html',\n 'https://www.plusliga.pl/games/id/1101412/tour/2021.html',\n 'https://www.plusliga.pl/games/id/1101411/tour/2021.html',\n 'https://www.plusliga.pl/games/id/1101410/tour/2021.html',\n 'https://www.plusliga.pl/games/id/1101409/tour/2021.html',\n 'https://www.plusliga.pl/games/id/1101408/tour/2021.html',\n 'https://www.plusliga.pl/games/id/1101407/tour/2021.html',\n 'https://www.plusliga.pl/games/id/1101406/tour/2021.html',\n 'https://www.plusliga.pl/games/id/1101405/tour/2021.html',\n 'https://www.plusliga.pl/games/id/1101404/tour/2021.html',\n 'https://www.plusliga.pl/games/id/1101403/tour/2021.html',\n 'https://www.plusliga.pl/games/id/1101402/tour/2021.html',\n 'https://www.plusliga.pl/games/id/1101401/tour/2021.html',\n 'https://www.plusliga.pl/games/id/1101400/tour/2021.html',\n 'https://www.plusliga.pl/games/id/1101399/tour/2021.html',\n 'https://www.plusliga.pl/games/id/1101398/tour/2021.html',\n 'https://www.plusliga.pl/games/id/1101397/tour/2021.html']"
     },
     "execution_count": 7,
     "metadata": {},
     "output_type": "execute_result"
    }
   ],
   "source": [
    "all_match_urls_clean"
   ],
   "metadata": {
    "collapsed": false
   }
  },
  {
   "cell_type": "code",
   "execution_count": 8,
   "outputs": [],
   "source": [
    "column_names = ['Date', 'Team_1', 'Team_2', 'T1_Score', 'T2_Score', 'T1_Sum', 'T1_BP', 'T1_Ratio', 'T1_Srv_Sum', 'T1_Srv_Err', 'T1_Srv_Ace', 'T1_Srv_Eff', 'T1_Rec_Sum', 'T1_Rec_Err', 'T1_Rec_Pos', 'T1_Rec_Perf', 'T1_Att_Sum', 'T1_Att_Err', 'T1_Att_Blk', 'T1_Att_Kill', 'T1_Att_Kill_Perc', 'T1_Att_Eff', 'T1_Blk_Sum', 'T1_Blk_As', 'T2_Sum', 'T2_BP', 'T2_Ratio', 'T2_Srv_Sum', 'T2_Srv_Err', 'T2_Srv_Ace', 'T2_Srv_Eff', 'T2_Rec_Sum', 'T2_Rec_Err', 'T2_Rec_Pos', 'T2_Rec_Perf', 'T2_Att_Sum', 'T2_Att_Err', 'T2_Att_Blk', 'T2_Att_Kill', 'T2_Att_Kill_Perc', 'T2_Att_Eff', 'T2_Blk_Sum', 'T2_Blk_As']"
   ],
   "metadata": {
    "collapsed": false
   }
  },
  {
   "cell_type": "code",
   "execution_count": 9,
   "outputs": [],
   "source": [
    "import numpy as np"
   ],
   "metadata": {
    "collapsed": false
   }
  },
  {
   "cell_type": "code",
   "execution_count": 38,
   "outputs": [
    {
     "name": "stdout",
     "output_type": "stream",
     "text": [
      "Done\n",
      "Done\n",
      "Done\n",
      "Done\n",
      "Done\n",
      "Done\n",
      "Done\n",
      "Done\n",
      "Done\n",
      "Done\n",
      "Done\n",
      "Done\n",
      "Done\n",
      "Done\n",
      "Done\n",
      "Done\n",
      "Done\n",
      "Done\n",
      "Done\n",
      "Done\n",
      "Done\n",
      "Done\n",
      "Done\n",
      "Done\n",
      "Done\n",
      "Done\n",
      "Done\n",
      "Done\n",
      "Done\n",
      "Done\n",
      "Done\n",
      "Done\n",
      "Done\n",
      "Done\n",
      "Done\n",
      "Done\n",
      "Done\n",
      "Done\n",
      "Done\n",
      "Done\n",
      "Done\n",
      "Done\n",
      "Done\n",
      "Done\n",
      "Done\n",
      "Done\n",
      "Done\n",
      "Done\n",
      "Done\n",
      "Done\n",
      "Done\n",
      "Done\n",
      "Done\n",
      "Done\n",
      "Done\n",
      "Done\n",
      "Done\n",
      "Done\n",
      "Done\n",
      "Done\n",
      "Done\n",
      "Done\n",
      "Done\n",
      "Done\n",
      "Done\n",
      "Done\n",
      "Done\n",
      "Done\n",
      "Done\n",
      "Done\n",
      "Done\n",
      "Done\n",
      "Done\n",
      "Done\n",
      "Done\n",
      "Done\n",
      "Done\n",
      "Done\n",
      "Done\n",
      "Done\n",
      "Done\n",
      "Done\n",
      "Done\n",
      "Done\n",
      "Done\n",
      "Done\n",
      "Done\n",
      "Done\n",
      "Done\n",
      "Done\n",
      "Done\n",
      "Done\n",
      "Done\n",
      "Done\n",
      "Done\n",
      "Done\n",
      "Done\n",
      "Done\n",
      "Done\n",
      "Done\n",
      "Done\n",
      "Done\n",
      "Done\n",
      "Done\n",
      "Done\n",
      "Done\n",
      "Done\n",
      "Done\n",
      "Done\n",
      "Done\n",
      "Done\n",
      "Done\n",
      "Done\n",
      "Done\n",
      "Done\n",
      "Done\n",
      "Done\n",
      "Done\n",
      "Done\n",
      "Done\n",
      "Done\n",
      "Done\n",
      "Done\n",
      "Done\n",
      "Done\n",
      "Done\n",
      "Done\n",
      "Done\n",
      "Done\n",
      "Done\n",
      "Done\n",
      "Done\n",
      "Done\n",
      "Done\n",
      "Done\n",
      "Done\n",
      "Done\n",
      "Done\n",
      "Done\n",
      "Done\n",
      "Done\n",
      "Done\n",
      "Done\n",
      "Done\n",
      "Done\n",
      "Done\n",
      "Done\n",
      "Done\n",
      "Done\n",
      "Done\n",
      "Done\n",
      "Done\n",
      "Done\n",
      "Done\n",
      "Done\n",
      "Done\n",
      "Done\n",
      "Done\n",
      "Done\n",
      "Done\n",
      "Done\n",
      "Done\n",
      "Done\n",
      "Done\n",
      "Done\n",
      "Done\n",
      "Done\n",
      "Done\n",
      "Done\n",
      "Done\n",
      "Done\n",
      "Done\n",
      "Done\n",
      "Done\n",
      "Done\n",
      "Done\n",
      "Done\n",
      "Done\n",
      "Done\n",
      "Done\n",
      "Done\n",
      "Done\n",
      "Done\n",
      "Done\n",
      "Done\n",
      "Done\n",
      "Done\n",
      "Done\n",
      "Done\n",
      "Done\n",
      "Done\n",
      "Done\n",
      "Done\n",
      "Done\n",
      "Done\n",
      "Done\n",
      "Done\n",
      "Done\n",
      "Done\n",
      "Done\n",
      "Done\n",
      "Done\n",
      "Done\n",
      "Done\n",
      "Done\n",
      "Done\n",
      "Done\n",
      "Done\n",
      "Done\n",
      "Done\n",
      "Done\n",
      "Done\n",
      "Done\n",
      "Done\n",
      "Done\n",
      "Done\n",
      "Done\n"
     ]
    }
   ],
   "source": [
    "all_match_data = np.array(column_names)\n",
    "for match_url in all_match_urls_clean:\n",
    "    print('Done')\n",
    "    all_match_data = np.vstack((all_match_data, get_game_data(match_url)))"
   ],
   "metadata": {
    "collapsed": false
   }
  },
  {
   "cell_type": "code",
   "execution_count": 39,
   "outputs": [
    {
     "data": {
      "text/plain": "array([['Date', 'Team_1', 'Team_2', ..., 'T2_Att_Eff', 'T2_Blk_Sum',\n        'T2_Blk_As'],\n       ['13.04.2022, 20:30', 'Grupa Azoty ZAKSA Kędzierzyn-Koźle',\n        'GKS Katowice', ..., '21%', '4', '5'],\n       ['18.04.2022, 14:45', 'GKS Katowice',\n        'Grupa Azoty ZAKSA Kędzierzyn-Koźle', ..., '39%', '14', '17'],\n       ...,\n       ['02.04.2022, 14:45', 'PGE Skra Bełchatów',\n        'Cerrad Enea Czarni Radom', ..., '34%', '9', '7'],\n       ['01.04.2022, 20:30', 'Projekt Warszawa', 'PSG Stal Nysa', ...,\n        '34%', '10', '11'],\n       ['03.04.2022, 14:45', 'Jastrzębski Węgiel',\n        'Grupa Azoty ZAKSA Kędzierzyn-Koźle', ..., '48%', '9', '1']],\n      dtype='<U34')"
     },
     "execution_count": 39,
     "metadata": {},
     "output_type": "execute_result"
    }
   ],
   "source": [
    "all_match_data"
   ],
   "metadata": {
    "collapsed": false
   }
  },
  {
   "cell_type": "code",
   "execution_count": 37,
   "outputs": [
    {
     "data": {
      "text/plain": "['09.04.2022, 14:45',\n 'Trefl Gdańsk',\n 'Jastrzębski Węgiel',\n '2',\n '3',\n '89',\n '25',\n '43',\n '113',\n '20',\n '7',\n '-7%',\n '104',\n '3',\n '34%',\n '14%',\n '149',\n '7',\n '16',\n '70',\n '46%',\n '31%',\n '12',\n '18',\n '90',\n '30',\n '48',\n '119',\n '15',\n '3',\n '-5%',\n '93',\n '7',\n '37%',\n '20%',\n '146',\n '8',\n '12',\n '71',\n '48%',\n '34%',\n '16',\n '21']"
     },
     "execution_count": 37,
     "metadata": {},
     "output_type": "execute_result"
    }
   ],
   "source": [
    "get_game_data('https://www.plusliga.pl/games/id/1101448/tour/2021.html')"
   ],
   "metadata": {
    "collapsed": false
   }
  },
  {
   "cell_type": "code",
   "execution_count": 15,
   "outputs": [],
   "source": [
    "r = requests.get('https://www.plusliga.pl/games/id/1101448/tour/2021.html')"
   ],
   "metadata": {
    "collapsed": false
   }
  },
  {
   "cell_type": "code",
   "execution_count": 16,
   "outputs": [],
   "source": [
    "soup = BeautifulSoup(r.text)"
   ],
   "metadata": {
    "collapsed": false
   }
  },
  {
   "cell_type": "code",
   "execution_count": 17,
   "outputs": [],
   "source": [
    "page_content = soup.find('div', {'class': 'pagecontent'})\n",
    "game_result = page_content.find('div', {'class': 'gameresult'})\n",
    "game_result = game_result.get_text()"
   ],
   "metadata": {
    "collapsed": false
   }
  },
  {
   "cell_type": "code",
   "execution_count": 19,
   "outputs": [
    {
     "data": {
      "text/plain": "<div class=\"pagecontent\"><div class=\"row text-center gridtable games\"><div class=\"col-xs-2 tablecell\"><h2><a href=\"https://www.plusliga.pl/teams/id/1405/tour/2021.html\">Jastrzębski Węgiel</a></h2></div><div class=\"col-xs-3 tablecell\"><a href=\"https://www.plusliga.pl/teams/id/1405/tour/2021.html\"><img alt=\"Jastrzębski Węgiel\" class=\"img-responsive\" src=\"https://dl.siatkarskaliga.pl/498380/inline/scalecrop=140x140/3c3f9f/Jastrzebski-Wegiel.png\"/></a></div><div class=\"col-xs-2 tablecell\"><div class=\"gameresult\"><span class=\"livegame-update team_a\" data-c=\"setsTeamA\">3</span><span class=\"doubledot\">:</span><span class=\"livegame-update team_b\" data-c=\"setsTeamB\">0</span></div></div><div class=\"col-xs-3 tablecell\"><a href=\"https://www.plusliga.pl/teams/id/1545/tour/2021.html\"><img alt=\"Cerrad Enea Czarni Radom\" class=\"img-responsive\" src=\"https://dl.siatkarskaliga.pl/498375/inline/scalecrop=140x140/fe7d43/Cerrad-Enea-Czarni-Radom.png\"/></a></div><div class=\"col-xs-2 tablecell\"><h2><a href=\"https://www.plusliga.pl/teams/id/1545/tour/2021.html\">Cerrad Enea Czarni Radom</a></h2></div></div></div>"
     },
     "execution_count": 19,
     "metadata": {},
     "output_type": "execute_result"
    }
   ],
   "source": [
    "page_content"
   ],
   "metadata": {
    "collapsed": false
   }
  },
  {
   "cell_type": "code",
   "execution_count": 34,
   "outputs": [],
   "source": [
    "last = soup.find_all('div',{'class':'gameresult'})[-1].get_text().split()"
   ],
   "metadata": {
    "collapsed": false
   }
  },
  {
   "cell_type": "code",
   "execution_count": 35,
   "outputs": [
    {
     "data": {
      "text/plain": "['2', ':', '3']"
     },
     "execution_count": 35,
     "metadata": {},
     "output_type": "execute_result"
    }
   ],
   "source": [
    "last"
   ],
   "metadata": {
    "collapsed": false
   }
  },
  {
   "cell_type": "code",
   "execution_count": 45,
   "outputs": [],
   "source": [
    "df = pd.DataFrame(all_match_data[1:], columns=all_match_data[0]).set_index('Date')"
   ],
   "metadata": {
    "collapsed": false
   }
  },
  {
   "cell_type": "code",
   "execution_count": 48,
   "outputs": [],
   "source": [
    "df.to_csv('data.csv')"
   ],
   "metadata": {
    "collapsed": false
   }
  },
  {
   "cell_type": "code",
   "execution_count": 47,
   "outputs": [
    {
     "data": {
      "text/plain": "                                               Team_1  \\\nDate                                                    \n13.04.2022, 20:30  Grupa Azoty ZAKSA Kędzierzyn-Koźle   \n18.04.2022, 14:45                        GKS Katowice   \n13.04.2022, 17:30                  Jastrzębski Węgiel   \n16.04.2022, 14:45                        Trefl Gdańsk   \n20.04.2022, 17:30                  Jastrzębski Węgiel   \n...                                               ...   \n03.04.2022, 17:30                        Trefl Gdańsk   \n02.04.2022, 20:30              Asseco Resovia Rzeszów   \n02.04.2022, 14:45                  PGE Skra Bełchatów   \n01.04.2022, 20:30                    Projekt Warszawa   \n03.04.2022, 14:45                  Jastrzębski Węgiel   \n\n                                               Team_2 T1_Score T2_Score  \\\nDate                                                                      \n13.04.2022, 20:30                        GKS Katowice        3        0   \n18.04.2022, 14:45  Grupa Azoty ZAKSA Kędzierzyn-Koźle        1        3   \n13.04.2022, 17:30                        Trefl Gdańsk        2        3   \n16.04.2022, 14:45                  Jastrzębski Węgiel        0        3   \n20.04.2022, 17:30                        Trefl Gdańsk        3        0   \n...                                               ...      ...      ...   \n03.04.2022, 17:30                Indykpol AZS Olsztyn        3        0   \n02.04.2022, 20:30                        Cuprum Lubin        3        0   \n02.04.2022, 14:45            Cerrad Enea Czarni Radom        3        2   \n01.04.2022, 20:30                       PSG Stal Nysa        2        3   \n03.04.2022, 14:45  Grupa Azoty ZAKSA Kędzierzyn-Koźle        0        3   \n\n                  T1_Sum T1_BP T1_Ratio T1_Srv_Sum T1_Srv_Err T1_Srv_Ace  ...  \\\nDate                                                                      ...   \n13.04.2022, 20:30     59    28       41         73          8          7  ...   \n18.04.2022, 14:45     64    20       24         88         14          5  ...   \n13.04.2022, 17:30     77    22       32        105         20          4  ...   \n16.04.2022, 14:45     42    17       10         62         11          5  ...   \n20.04.2022, 17:30     51    23       28         73         13          4  ...   \n...                  ...   ...      ...        ...        ...        ...  ...   \n03.04.2022, 17:30     55    20       36         74         11          5  ...   \n02.04.2022, 20:30     61    31       40         73         10          7  ...   \n02.04.2022, 14:45     71    28       20        104         21          9  ...   \n01.04.2022, 20:30     72    25       35        103         14          4  ...   \n03.04.2022, 14:45     45    10       11         53         10          1  ...   \n\n                  T2_Rec_Pos T2_Rec_Perf T2_Att_Sum T2_Att_Err T2_Att_Blk  \\\nDate                                                                        \n13.04.2022, 20:30        36%         15%         80          6         12   \n18.04.2022, 14:45        45%         20%        118          7          6   \n13.04.2022, 17:30        40%         18%        119          5         11   \n16.04.2022, 14:45        45%         13%         76          5          5   \n20.04.2022, 17:30        48%         15%         69         11         11   \n...                      ...         ...        ...        ...        ...   \n03.04.2022, 17:30        49%         25%         70          5          7   \n02.04.2022, 20:30        46%         22%         79          8          9   \n02.04.2022, 14:45        45%         26%        100         10          8   \n01.04.2022, 20:30        42%         11%        126          9         14   \n03.04.2022, 14:45        32%         16%         70          1          6   \n\n                  T2_Att_Kill T2_Att_Kill_Perc T2_Att_Eff T2_Blk_Sum T2_Blk_As  \nDate                                                                            \n13.04.2022, 20:30          35              43%        21%          4         5  \n18.04.2022, 14:45          60              50%        39%         14        17  \n13.04.2022, 17:30          58              48%        35%         13        14  \n16.04.2022, 14:45          41              53%        40%         10        11  \n20.04.2022, 17:30          27              39%         7%          5         3  \n...                       ...              ...        ...        ...       ...  \n03.04.2022, 17:30          40              57%        40%          2         5  \n02.04.2022, 20:30          32              40%        18%          4        11  \n02.04.2022, 14:45          52              52%        34%          9         7  \n01.04.2022, 20:30          66              52%        34%         10        11  \n03.04.2022, 14:45          41              58%        48%          9         1  \n\n[217 rows x 42 columns]",
      "text/html": "<div>\n<style scoped>\n    .dataframe tbody tr th:only-of-type {\n        vertical-align: middle;\n    }\n\n    .dataframe tbody tr th {\n        vertical-align: top;\n    }\n\n    .dataframe thead th {\n        text-align: right;\n    }\n</style>\n<table border=\"1\" class=\"dataframe\">\n  <thead>\n    <tr style=\"text-align: right;\">\n      <th></th>\n      <th>Team_1</th>\n      <th>Team_2</th>\n      <th>T1_Score</th>\n      <th>T2_Score</th>\n      <th>T1_Sum</th>\n      <th>T1_BP</th>\n      <th>T1_Ratio</th>\n      <th>T1_Srv_Sum</th>\n      <th>T1_Srv_Err</th>\n      <th>T1_Srv_Ace</th>\n      <th>...</th>\n      <th>T2_Rec_Pos</th>\n      <th>T2_Rec_Perf</th>\n      <th>T2_Att_Sum</th>\n      <th>T2_Att_Err</th>\n      <th>T2_Att_Blk</th>\n      <th>T2_Att_Kill</th>\n      <th>T2_Att_Kill_Perc</th>\n      <th>T2_Att_Eff</th>\n      <th>T2_Blk_Sum</th>\n      <th>T2_Blk_As</th>\n    </tr>\n    <tr>\n      <th>Date</th>\n      <th></th>\n      <th></th>\n      <th></th>\n      <th></th>\n      <th></th>\n      <th></th>\n      <th></th>\n      <th></th>\n      <th></th>\n      <th></th>\n      <th></th>\n      <th></th>\n      <th></th>\n      <th></th>\n      <th></th>\n      <th></th>\n      <th></th>\n      <th></th>\n      <th></th>\n      <th></th>\n      <th></th>\n    </tr>\n  </thead>\n  <tbody>\n    <tr>\n      <th>13.04.2022, 20:30</th>\n      <td>Grupa Azoty ZAKSA Kędzierzyn-Koźle</td>\n      <td>GKS Katowice</td>\n      <td>3</td>\n      <td>0</td>\n      <td>59</td>\n      <td>28</td>\n      <td>41</td>\n      <td>73</td>\n      <td>8</td>\n      <td>7</td>\n      <td>...</td>\n      <td>36%</td>\n      <td>15%</td>\n      <td>80</td>\n      <td>6</td>\n      <td>12</td>\n      <td>35</td>\n      <td>43%</td>\n      <td>21%</td>\n      <td>4</td>\n      <td>5</td>\n    </tr>\n    <tr>\n      <th>18.04.2022, 14:45</th>\n      <td>GKS Katowice</td>\n      <td>Grupa Azoty ZAKSA Kędzierzyn-Koźle</td>\n      <td>1</td>\n      <td>3</td>\n      <td>64</td>\n      <td>20</td>\n      <td>24</td>\n      <td>88</td>\n      <td>14</td>\n      <td>5</td>\n      <td>...</td>\n      <td>45%</td>\n      <td>20%</td>\n      <td>118</td>\n      <td>7</td>\n      <td>6</td>\n      <td>60</td>\n      <td>50%</td>\n      <td>39%</td>\n      <td>14</td>\n      <td>17</td>\n    </tr>\n    <tr>\n      <th>13.04.2022, 17:30</th>\n      <td>Jastrzębski Węgiel</td>\n      <td>Trefl Gdańsk</td>\n      <td>2</td>\n      <td>3</td>\n      <td>77</td>\n      <td>22</td>\n      <td>32</td>\n      <td>105</td>\n      <td>20</td>\n      <td>4</td>\n      <td>...</td>\n      <td>40%</td>\n      <td>18%</td>\n      <td>119</td>\n      <td>5</td>\n      <td>11</td>\n      <td>58</td>\n      <td>48%</td>\n      <td>35%</td>\n      <td>13</td>\n      <td>14</td>\n    </tr>\n    <tr>\n      <th>16.04.2022, 14:45</th>\n      <td>Trefl Gdańsk</td>\n      <td>Jastrzębski Węgiel</td>\n      <td>0</td>\n      <td>3</td>\n      <td>42</td>\n      <td>17</td>\n      <td>10</td>\n      <td>62</td>\n      <td>11</td>\n      <td>5</td>\n      <td>...</td>\n      <td>45%</td>\n      <td>13%</td>\n      <td>76</td>\n      <td>5</td>\n      <td>5</td>\n      <td>41</td>\n      <td>53%</td>\n      <td>40%</td>\n      <td>10</td>\n      <td>11</td>\n    </tr>\n    <tr>\n      <th>20.04.2022, 17:30</th>\n      <td>Jastrzębski Węgiel</td>\n      <td>Trefl Gdańsk</td>\n      <td>3</td>\n      <td>0</td>\n      <td>51</td>\n      <td>23</td>\n      <td>28</td>\n      <td>73</td>\n      <td>13</td>\n      <td>4</td>\n      <td>...</td>\n      <td>48%</td>\n      <td>15%</td>\n      <td>69</td>\n      <td>11</td>\n      <td>11</td>\n      <td>27</td>\n      <td>39%</td>\n      <td>7%</td>\n      <td>5</td>\n      <td>3</td>\n    </tr>\n    <tr>\n      <th>...</th>\n      <td>...</td>\n      <td>...</td>\n      <td>...</td>\n      <td>...</td>\n      <td>...</td>\n      <td>...</td>\n      <td>...</td>\n      <td>...</td>\n      <td>...</td>\n      <td>...</td>\n      <td>...</td>\n      <td>...</td>\n      <td>...</td>\n      <td>...</td>\n      <td>...</td>\n      <td>...</td>\n      <td>...</td>\n      <td>...</td>\n      <td>...</td>\n      <td>...</td>\n      <td>...</td>\n    </tr>\n    <tr>\n      <th>03.04.2022, 17:30</th>\n      <td>Trefl Gdańsk</td>\n      <td>Indykpol AZS Olsztyn</td>\n      <td>3</td>\n      <td>0</td>\n      <td>55</td>\n      <td>20</td>\n      <td>36</td>\n      <td>74</td>\n      <td>11</td>\n      <td>5</td>\n      <td>...</td>\n      <td>49%</td>\n      <td>25%</td>\n      <td>70</td>\n      <td>5</td>\n      <td>7</td>\n      <td>40</td>\n      <td>57%</td>\n      <td>40%</td>\n      <td>2</td>\n      <td>5</td>\n    </tr>\n    <tr>\n      <th>02.04.2022, 20:30</th>\n      <td>Asseco Resovia Rzeszów</td>\n      <td>Cuprum Lubin</td>\n      <td>3</td>\n      <td>0</td>\n      <td>61</td>\n      <td>31</td>\n      <td>40</td>\n      <td>73</td>\n      <td>10</td>\n      <td>7</td>\n      <td>...</td>\n      <td>46%</td>\n      <td>22%</td>\n      <td>79</td>\n      <td>8</td>\n      <td>9</td>\n      <td>32</td>\n      <td>40%</td>\n      <td>18%</td>\n      <td>4</td>\n      <td>11</td>\n    </tr>\n    <tr>\n      <th>02.04.2022, 14:45</th>\n      <td>PGE Skra Bełchatów</td>\n      <td>Cerrad Enea Czarni Radom</td>\n      <td>3</td>\n      <td>2</td>\n      <td>71</td>\n      <td>28</td>\n      <td>20</td>\n      <td>104</td>\n      <td>21</td>\n      <td>9</td>\n      <td>...</td>\n      <td>45%</td>\n      <td>26%</td>\n      <td>100</td>\n      <td>10</td>\n      <td>8</td>\n      <td>52</td>\n      <td>52%</td>\n      <td>34%</td>\n      <td>9</td>\n      <td>7</td>\n    </tr>\n    <tr>\n      <th>01.04.2022, 20:30</th>\n      <td>Projekt Warszawa</td>\n      <td>PSG Stal Nysa</td>\n      <td>2</td>\n      <td>3</td>\n      <td>72</td>\n      <td>25</td>\n      <td>35</td>\n      <td>103</td>\n      <td>14</td>\n      <td>4</td>\n      <td>...</td>\n      <td>42%</td>\n      <td>11%</td>\n      <td>126</td>\n      <td>9</td>\n      <td>14</td>\n      <td>66</td>\n      <td>52%</td>\n      <td>34%</td>\n      <td>10</td>\n      <td>11</td>\n    </tr>\n    <tr>\n      <th>03.04.2022, 14:45</th>\n      <td>Jastrzębski Węgiel</td>\n      <td>Grupa Azoty ZAKSA Kędzierzyn-Koźle</td>\n      <td>0</td>\n      <td>3</td>\n      <td>45</td>\n      <td>10</td>\n      <td>11</td>\n      <td>53</td>\n      <td>10</td>\n      <td>1</td>\n      <td>...</td>\n      <td>32%</td>\n      <td>16%</td>\n      <td>70</td>\n      <td>1</td>\n      <td>6</td>\n      <td>41</td>\n      <td>58%</td>\n      <td>48%</td>\n      <td>9</td>\n      <td>1</td>\n    </tr>\n  </tbody>\n</table>\n<p>217 rows × 42 columns</p>\n</div>"
     },
     "execution_count": 47,
     "metadata": {},
     "output_type": "execute_result"
    }
   ],
   "source": [
    "df"
   ],
   "metadata": {
    "collapsed": false
   }
  },
  {
   "cell_type": "code",
   "execution_count": null,
   "outputs": [],
   "source": [],
   "metadata": {
    "collapsed": false
   }
  }
 ],
 "metadata": {
  "kernelspec": {
   "name": "python3",
   "language": "python",
   "display_name": "Python 3 (ipykernel)"
  },
  "language_info": {
   "codemirror_mode": {
    "name": "ipython",
    "version": 2
   },
   "file_extension": ".py",
   "mimetype": "text/x-python",
   "name": "python",
   "nbconvert_exporter": "python",
   "pygments_lexer": "ipython2",
   "version": "2.7.6"
  }
 },
 "nbformat": 4,
 "nbformat_minor": 0
}
