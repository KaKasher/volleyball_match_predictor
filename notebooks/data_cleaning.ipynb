{
 "cells": [
  {
   "cell_type": "code",
   "execution_count": 82,
   "metadata": {
    "collapsed": true
   },
   "outputs": [],
   "source": [
    "import pandas as pd"
   ]
  },
  {
   "cell_type": "code",
   "execution_count": 83,
   "outputs": [],
   "source": [
    "df = pd.read_csv('../data/raw/scraped_data.csv')"
   ],
   "metadata": {
    "collapsed": false
   }
  },
  {
   "cell_type": "code",
   "execution_count": 84,
   "outputs": [
    {
     "data": {
      "text/plain": "                Date                      Team_1  \\\n0  01.10.2022, 14:45        Indykpol AZS Olsztyn   \n1  30.09.2022, 17:30          Jastrzębski Węgiel   \n2  01.10.2022, 20:30                 LUK  Lublin   \n3  02.10.2022, 14:45  Aluron CMC Warta Zawiercie   \n4  03.10.2022, 17:30          BBTS Bielsko-Biała   \n\n                               Team_2  T1_Score  T2_Score  T1_Sum  T1_BP  \\\n0  Grupa Azoty ZAKSA Kędzierzyn-Koźle         1         3    60.0   17.0   \n1                        GKS Katowice         3         0    51.0   17.0   \n2            Cerrad Enea Czarni Radom         2         3    76.0   23.0   \n3                  PGE Skra Bełchatów         3         2    66.0   16.0   \n4                        Cuprum Lubin         1         3    63.0   22.0   \n\n   T1_Ratio  T1_Srv_Sum T1_Srv_Err  ...  T2_Rec_Pos T2_Rec_Perf  T2_Att_Sum  \\\n0      11.0        79.0         18  ...         45%         26%          88   \n1      27.0        77.0         15  ...         50%         20%          91   \n2      35.0       109.0         16  ...         47%         18%         128   \n3      22.0        98.0         21  ...         32%          9%         102   \n4      17.0       100.0         19  ...         45%         22%         109   \n\n   T2_Att_Err T2_Att_Blk T2_Att_Kill T2_Att_Kill_Perc  T2_Att_Eff  T2_Blk_Sum  \\\n0           7          7          45              51%         35%          14   \n1           8          4          43              47%         34%           1   \n2          10         10          63              49%         33%          10   \n3           9          9          56              54%         37%           7   \n4           7          8          58              53%         39%          10   \n\n   T2_Blk_As  \n0         11  \n1         17  \n2         13  \n3         14  \n4         10  \n\n[5 rows x 43 columns]",
      "text/html": "<div>\n<style scoped>\n    .dataframe tbody tr th:only-of-type {\n        vertical-align: middle;\n    }\n\n    .dataframe tbody tr th {\n        vertical-align: top;\n    }\n\n    .dataframe thead th {\n        text-align: right;\n    }\n</style>\n<table border=\"1\" class=\"dataframe\">\n  <thead>\n    <tr style=\"text-align: right;\">\n      <th></th>\n      <th>Date</th>\n      <th>Team_1</th>\n      <th>Team_2</th>\n      <th>T1_Score</th>\n      <th>T2_Score</th>\n      <th>T1_Sum</th>\n      <th>T1_BP</th>\n      <th>T1_Ratio</th>\n      <th>T1_Srv_Sum</th>\n      <th>T1_Srv_Err</th>\n      <th>...</th>\n      <th>T2_Rec_Pos</th>\n      <th>T2_Rec_Perf</th>\n      <th>T2_Att_Sum</th>\n      <th>T2_Att_Err</th>\n      <th>T2_Att_Blk</th>\n      <th>T2_Att_Kill</th>\n      <th>T2_Att_Kill_Perc</th>\n      <th>T2_Att_Eff</th>\n      <th>T2_Blk_Sum</th>\n      <th>T2_Blk_As</th>\n    </tr>\n  </thead>\n  <tbody>\n    <tr>\n      <th>0</th>\n      <td>01.10.2022, 14:45</td>\n      <td>Indykpol AZS Olsztyn</td>\n      <td>Grupa Azoty ZAKSA Kędzierzyn-Koźle</td>\n      <td>1</td>\n      <td>3</td>\n      <td>60.0</td>\n      <td>17.0</td>\n      <td>11.0</td>\n      <td>79.0</td>\n      <td>18</td>\n      <td>...</td>\n      <td>45%</td>\n      <td>26%</td>\n      <td>88</td>\n      <td>7</td>\n      <td>7</td>\n      <td>45</td>\n      <td>51%</td>\n      <td>35%</td>\n      <td>14</td>\n      <td>11</td>\n    </tr>\n    <tr>\n      <th>1</th>\n      <td>30.09.2022, 17:30</td>\n      <td>Jastrzębski Węgiel</td>\n      <td>GKS Katowice</td>\n      <td>3</td>\n      <td>0</td>\n      <td>51.0</td>\n      <td>17.0</td>\n      <td>27.0</td>\n      <td>77.0</td>\n      <td>15</td>\n      <td>...</td>\n      <td>50%</td>\n      <td>20%</td>\n      <td>91</td>\n      <td>8</td>\n      <td>4</td>\n      <td>43</td>\n      <td>47%</td>\n      <td>34%</td>\n      <td>1</td>\n      <td>17</td>\n    </tr>\n    <tr>\n      <th>2</th>\n      <td>01.10.2022, 20:30</td>\n      <td>LUK  Lublin</td>\n      <td>Cerrad Enea Czarni Radom</td>\n      <td>2</td>\n      <td>3</td>\n      <td>76.0</td>\n      <td>23.0</td>\n      <td>35.0</td>\n      <td>109.0</td>\n      <td>16</td>\n      <td>...</td>\n      <td>47%</td>\n      <td>18%</td>\n      <td>128</td>\n      <td>10</td>\n      <td>10</td>\n      <td>63</td>\n      <td>49%</td>\n      <td>33%</td>\n      <td>10</td>\n      <td>13</td>\n    </tr>\n    <tr>\n      <th>3</th>\n      <td>02.10.2022, 14:45</td>\n      <td>Aluron CMC Warta Zawiercie</td>\n      <td>PGE Skra Bełchatów</td>\n      <td>3</td>\n      <td>2</td>\n      <td>66.0</td>\n      <td>16.0</td>\n      <td>22.0</td>\n      <td>98.0</td>\n      <td>21</td>\n      <td>...</td>\n      <td>32%</td>\n      <td>9%</td>\n      <td>102</td>\n      <td>9</td>\n      <td>9</td>\n      <td>56</td>\n      <td>54%</td>\n      <td>37%</td>\n      <td>7</td>\n      <td>14</td>\n    </tr>\n    <tr>\n      <th>4</th>\n      <td>03.10.2022, 17:30</td>\n      <td>BBTS Bielsko-Biała</td>\n      <td>Cuprum Lubin</td>\n      <td>1</td>\n      <td>3</td>\n      <td>63.0</td>\n      <td>22.0</td>\n      <td>17.0</td>\n      <td>100.0</td>\n      <td>19</td>\n      <td>...</td>\n      <td>45%</td>\n      <td>22%</td>\n      <td>109</td>\n      <td>7</td>\n      <td>8</td>\n      <td>58</td>\n      <td>53%</td>\n      <td>39%</td>\n      <td>10</td>\n      <td>10</td>\n    </tr>\n  </tbody>\n</table>\n<p>5 rows × 43 columns</p>\n</div>"
     },
     "execution_count": 84,
     "metadata": {},
     "output_type": "execute_result"
    }
   ],
   "source": [
    "df.head()"
   ],
   "metadata": {
    "collapsed": false
   }
  },
  {
   "cell_type": "code",
   "execution_count": 85,
   "outputs": [
    {
     "data": {
      "text/plain": "PGE Skra Bełchatów                                    224\nAsseco Resovia Rzeszów                                201\nJastrzębski Węgiel                                    188\nZAKSA Kędzierzyn-Koźle                                181\nIndykpol AZS Olsztyn                                  160\nCuprum Lubin                                          115\nCerrad Czarni Radom                                    92\nGKS Katowice                                           86\nTrefl Gdańsk                                           86\nBBTS Bielsko-Biała                                     85\nAZS Politechnika Warszawska                            85\nEffector Kielce                                        73\nMKS Będzin                                             73\nDelecta Bydgoszcz                                      70\nLOTOS Trefl Gdańsk                                     58\nAZS Częstochowa                                        57\nGrupa Azoty ZAKSA Kędzierzyn-Koźle                     47\nŁuczniczka Bydgoszcz                                   46\nAluron CMC Warta Zawiercie                             45\nŚlepsk Malow Suwałki                                   41\nCerrad Enea Czarni Radom                               39\nAluron Virtu Warta Zawiercie                           32\nONICO Warszawa                                         31\nTransfer Bydgoszcz                                     29\nTytan AZS Częstochowa                                  29\nPSG Stal Nysa                                          29\nFart Kielce                                            28\nProjekt Warszawa                                       27\nLUK  Lublin                                            27\nDomex Tytan AZS Częstochowa                            26\nAZS UWM Olsztyn                                        25\nJadar Radom                                            24\nLotos Trefl Gdańsk                                     23\nJASTRZĘBSKI WĘGIEL                                     18\nAsseco Resovia                                         18\nMKS BANIMEX BĘDZIN                                     17\nVERVA Warszawa ORLEN Paliwa                            16\nPamapol Wielton Wieluń                                 16\nStocznia Szczecin                                      16\nEspadon Szczecin                                       16\nONICO AZS Politechnika Warszawska                      16\nDafi Społem Kielce                                     15\nKS Jastrzębski Węgiel S.A.                             14\nIndykpol AZS UWM Olsztyn                               14\nStal Nysa                                              13\nBarkom Każany Lwów                                     13\nChemik Bydgoszcz                                       13\nJ.W.Construction OSRAM AZS Politechnika Warszawska     12\nNeckermann AZS Politechnika Warszawska                 12\nPamapol Siatkarz Wieluń                                11\nWkręt-met AZS Częstochowa                              10\nName: Team_1, dtype: int64"
     },
     "execution_count": 85,
     "metadata": {},
     "output_type": "execute_result"
    }
   ],
   "source": [
    "df['Team_1'].value_counts()"
   ],
   "metadata": {
    "collapsed": false
   }
  },
  {
   "cell_type": "code",
   "execution_count": 86,
   "outputs": [],
   "source": [
    "def replace_similar(data, current, new):\n",
    "    data.loc[df['Team_1'].str.contains(current), 'Team_1'] = new\n",
    "    data.loc[df['Team_2'].str.contains(current), 'Team_2'] = new"
   ],
   "metadata": {
    "collapsed": false
   }
  },
  {
   "cell_type": "code",
   "execution_count": 87,
   "outputs": [],
   "source": [
    "mappings = {'AZS Politechnika Warszawska':'Projekt Warszawa', 'ZAKSA Kędzierzyn-Koźle':'ZAKSA Kędzierzyn-Koźle', 'AZS Częstochowa':'AZS Częstochowa', 'Olsztyn':'AZS Olsztyn', 'Asseco Resovia Rzeszów':'Asseco Resovia', 'JASTRZĘBSKI WĘGIEL':'Jastrzębski Węgiel', 'Jastrzębski Węgiel':'Jastrzębski Węgiel', 'Czarni Radom':'Czarni Radom', 'Trefl Gdańsk':'Trefl Gdańsk', 'Warszawa':'Projekt Warszawa', 'Bydgoszcz':'Chemik Bydgoszcz', 'Kielce':'Społem Kielce', 'Zawiercie':'Warta Zawiercie', 'Szczecin':'Stocznia Szczecin', 'Wieluń':'Pamapol Wielton Wieluń', 'Nysa':'Stal Nysa', 'MKS BANIMEX BĘDZIN':'MKS Będzin'}\n",
    "\n",
    "for current_name, new_name in mappings.items():\n",
    "    replace_similar(df, current_name, new_name)\n"
   ],
   "metadata": {
    "collapsed": false
   }
  },
  {
   "cell_type": "code",
   "execution_count": 88,
   "outputs": [
    {
     "data": {
      "text/plain": "6       Trefl Gdańsk\n21      Trefl Gdańsk\n36      Trefl Gdańsk\n51      Trefl Gdańsk\n66      Trefl Gdańsk\n            ...     \n2452    Trefl Gdańsk\n2472    Trefl Gdańsk\n2482    Trefl Gdańsk\n2492    Trefl Gdańsk\n2502    Trefl Gdańsk\nName: Team_1, Length: 167, dtype: object"
     },
     "execution_count": 88,
     "metadata": {},
     "output_type": "execute_result"
    }
   ],
   "source": [
    "df.loc[df['Team_1'].str.contains('Gdańsk'), 'Team_1']"
   ],
   "metadata": {
    "collapsed": false
   }
  },
  {
   "cell_type": "code",
   "execution_count": 89,
   "outputs": [],
   "source": [
    "df.drop(df[df['Team_1'] == 'Team_1'].index, inplace=True)"
   ],
   "metadata": {
    "collapsed": false
   }
  },
  {
   "cell_type": "code",
   "execution_count": 90,
   "outputs": [
    {
     "data": {
      "text/plain": "ZAKSA Kędzierzyn-Koźle    228\nPGE Skra Bełchatów        224\nJastrzębski Węgiel        220\nAsseco Resovia            219\nAZS Olsztyn               199\nProjekt Warszawa          199\nTrefl Gdańsk              167\nChemik Bydgoszcz          158\nCzarni Radom              131\nAZS Częstochowa           122\nSpołem Kielce             116\nCuprum Lubin              115\nMKS Będzin                 90\nGKS Katowice               86\nBBTS Bielsko-Biała         85\nWarta Zawiercie            77\nStal Nysa                  42\nŚlepsk Malow Suwałki       41\nStocznia Szczecin          32\nLUK  Lublin                27\nPamapol Wielton Wieluń     27\nJadar Radom                24\nBarkom Każany Lwów         13\nName: Team_1, dtype: int64"
     },
     "execution_count": 90,
     "metadata": {},
     "output_type": "execute_result"
    }
   ],
   "source": [
    "df['Team_1'].value_counts()"
   ],
   "metadata": {
    "collapsed": false
   }
  },
  {
   "cell_type": "code",
   "execution_count": 91,
   "outputs": [
    {
     "data": {
      "text/plain": "23"
     },
     "execution_count": 91,
     "metadata": {},
     "output_type": "execute_result"
    }
   ],
   "source": [
    "len(df['Team_1'].value_counts())"
   ],
   "metadata": {
    "collapsed": false
   }
  },
  {
   "cell_type": "code",
   "execution_count": 92,
   "outputs": [
    {
     "name": "stdout",
     "output_type": "stream",
     "text": [
      "<class 'pandas.core.frame.DataFrame'>\n",
      "RangeIndex: 2642 entries, 0 to 2641\n",
      "Data columns (total 43 columns):\n",
      " #   Column            Non-Null Count  Dtype  \n",
      "---  ------            --------------  -----  \n",
      " 0   Date              2642 non-null   object \n",
      " 1   Team_1            2642 non-null   object \n",
      " 2   Team_2            2642 non-null   object \n",
      " 3   T1_Score          2642 non-null   int64  \n",
      " 4   T2_Score          2642 non-null   int64  \n",
      " 5   T1_Sum            2640 non-null   float64\n",
      " 6   T1_BP             2640 non-null   float64\n",
      " 7   T1_Ratio          2640 non-null   float64\n",
      " 8   T1_Srv_Sum        2640 non-null   float64\n",
      " 9   T1_Srv_Err        2640 non-null   object \n",
      " 10  T1_Srv_Ace        2640 non-null   float64\n",
      " 11  T1_Srv_Eff        2642 non-null   object \n",
      " 12  T1_Rec_Sum        2640 non-null   float64\n",
      " 13  T1_Rec_Err        2640 non-null   float64\n",
      " 14  T1_Rec_Pos        2642 non-null   object \n",
      " 15  T1_Rec_Perf       2642 non-null   object \n",
      " 16  T1_Att_Sum        2640 non-null   object \n",
      " 17  T1_Att_Err        2640 non-null   float64\n",
      " 18  T1_Att_Blk        2640 non-null   float64\n",
      " 19  T1_Att_Kill       2640 non-null   float64\n",
      " 20  T1_Att_Kill_Perc  2642 non-null   object \n",
      " 21  T1_Att_Eff        2642 non-null   object \n",
      " 22  T1_Blk_Sum        2640 non-null   float64\n",
      " 23  T1_Blk_As         2640 non-null   object \n",
      " 24  T2_Sum            2642 non-null   int64  \n",
      " 25  T2_BP             2642 non-null   int64  \n",
      " 26  T2_Ratio          2642 non-null   int64  \n",
      " 27  T2_Srv_Sum        2642 non-null   int64  \n",
      " 28  T2_Srv_Err        2642 non-null   object \n",
      " 29  T2_Srv_Ace        2642 non-null   int64  \n",
      " 30  T2_Srv_Eff        2642 non-null   object \n",
      " 31  T2_Rec_Sum        2642 non-null   int64  \n",
      " 32  T2_Rec_Err        2642 non-null   int64  \n",
      " 33  T2_Rec_Pos        2642 non-null   object \n",
      " 34  T2_Rec_Perf       2642 non-null   object \n",
      " 35  T2_Att_Sum        2642 non-null   object \n",
      " 36  T2_Att_Err        2642 non-null   int64  \n",
      " 37  T2_Att_Blk        2642 non-null   int64  \n",
      " 38  T2_Att_Kill       2642 non-null   int64  \n",
      " 39  T2_Att_Kill_Perc  2642 non-null   object \n",
      " 40  T2_Att_Eff        2642 non-null   object \n",
      " 41  T2_Blk_Sum        2642 non-null   int64  \n",
      " 42  T2_Blk_As         2642 non-null   object \n",
      "dtypes: float64(11), int64(13), object(19)\n",
      "memory usage: 887.7+ KB\n"
     ]
    }
   ],
   "source": [
    "df.info()"
   ],
   "metadata": {
    "collapsed": false
   }
  },
  {
   "cell_type": "code",
   "execution_count": 93,
   "outputs": [
    {
     "data": {
      "text/plain": "28"
     },
     "execution_count": 93,
     "metadata": {},
     "output_type": "execute_result"
    }
   ],
   "source": [
    "df.isna().sum().sum()"
   ],
   "metadata": {
    "collapsed": false
   }
  },
  {
   "cell_type": "code",
   "execution_count": 94,
   "outputs": [
    {
     "data": {
      "text/plain": "                  Date      Team_1     Team_2  T1_Score  T2_Score  T1_Sum  \\\n237  20.05.2022, 17:30  MKS Będzin  Stal Nysa         0         3     NaN   \n239  26.05.2022, 20:30  MKS Będzin  Stal Nysa         2         3     NaN   \n\n     T1_BP  T1_Ratio  T1_Srv_Sum T1_Srv_Err  ...  T2_Rec_Pos T2_Rec_Perf  \\\n237    NaN       NaN         NaN        NaN  ...         47%         22%   \n239    NaN       NaN         NaN        NaN  ...         45%         13%   \n\n     T2_Att_Sum  T2_Att_Err T2_Att_Blk T2_Att_Kill T2_Att_Kill_Perc  \\\n237         142          11         17          68              47%   \n239         241          22         19         100              41%   \n\n     T2_Att_Eff  T2_Blk_Sum  T2_Blk_As  \n237         28%          17         17  \n239         24%          19         30  \n\n[2 rows x 43 columns]",
      "text/html": "<div>\n<style scoped>\n    .dataframe tbody tr th:only-of-type {\n        vertical-align: middle;\n    }\n\n    .dataframe tbody tr th {\n        vertical-align: top;\n    }\n\n    .dataframe thead th {\n        text-align: right;\n    }\n</style>\n<table border=\"1\" class=\"dataframe\">\n  <thead>\n    <tr style=\"text-align: right;\">\n      <th></th>\n      <th>Date</th>\n      <th>Team_1</th>\n      <th>Team_2</th>\n      <th>T1_Score</th>\n      <th>T2_Score</th>\n      <th>T1_Sum</th>\n      <th>T1_BP</th>\n      <th>T1_Ratio</th>\n      <th>T1_Srv_Sum</th>\n      <th>T1_Srv_Err</th>\n      <th>...</th>\n      <th>T2_Rec_Pos</th>\n      <th>T2_Rec_Perf</th>\n      <th>T2_Att_Sum</th>\n      <th>T2_Att_Err</th>\n      <th>T2_Att_Blk</th>\n      <th>T2_Att_Kill</th>\n      <th>T2_Att_Kill_Perc</th>\n      <th>T2_Att_Eff</th>\n      <th>T2_Blk_Sum</th>\n      <th>T2_Blk_As</th>\n    </tr>\n  </thead>\n  <tbody>\n    <tr>\n      <th>237</th>\n      <td>20.05.2022, 17:30</td>\n      <td>MKS Będzin</td>\n      <td>Stal Nysa</td>\n      <td>0</td>\n      <td>3</td>\n      <td>NaN</td>\n      <td>NaN</td>\n      <td>NaN</td>\n      <td>NaN</td>\n      <td>NaN</td>\n      <td>...</td>\n      <td>47%</td>\n      <td>22%</td>\n      <td>142</td>\n      <td>11</td>\n      <td>17</td>\n      <td>68</td>\n      <td>47%</td>\n      <td>28%</td>\n      <td>17</td>\n      <td>17</td>\n    </tr>\n    <tr>\n      <th>239</th>\n      <td>26.05.2022, 20:30</td>\n      <td>MKS Będzin</td>\n      <td>Stal Nysa</td>\n      <td>2</td>\n      <td>3</td>\n      <td>NaN</td>\n      <td>NaN</td>\n      <td>NaN</td>\n      <td>NaN</td>\n      <td>NaN</td>\n      <td>...</td>\n      <td>45%</td>\n      <td>13%</td>\n      <td>241</td>\n      <td>22</td>\n      <td>19</td>\n      <td>100</td>\n      <td>41%</td>\n      <td>24%</td>\n      <td>19</td>\n      <td>30</td>\n    </tr>\n  </tbody>\n</table>\n<p>2 rows × 43 columns</p>\n</div>"
     },
     "execution_count": 94,
     "metadata": {},
     "output_type": "execute_result"
    }
   ],
   "source": [
    "df[df.isna().any(axis=1)] # Those rows didn't have full data on the plusLiga's website"
   ],
   "metadata": {
    "collapsed": false
   }
  },
  {
   "cell_type": "code",
   "execution_count": 95,
   "outputs": [],
   "source": [
    "df.dropna(inplace=True)"
   ],
   "metadata": {
    "collapsed": false
   }
  },
  {
   "cell_type": "code",
   "execution_count": 96,
   "outputs": [
    {
     "name": "stdout",
     "output_type": "stream",
     "text": [
      "<class 'pandas.core.frame.DataFrame'>\n",
      "Int64Index: 2640 entries, 0 to 2641\n",
      "Data columns (total 43 columns):\n",
      " #   Column            Non-Null Count  Dtype  \n",
      "---  ------            --------------  -----  \n",
      " 0   Date              2640 non-null   object \n",
      " 1   Team_1            2640 non-null   object \n",
      " 2   Team_2            2640 non-null   object \n",
      " 3   T1_Score          2640 non-null   int64  \n",
      " 4   T2_Score          2640 non-null   int64  \n",
      " 5   T1_Sum            2640 non-null   float64\n",
      " 6   T1_BP             2640 non-null   float64\n",
      " 7   T1_Ratio          2640 non-null   float64\n",
      " 8   T1_Srv_Sum        2640 non-null   float64\n",
      " 9   T1_Srv_Err        2640 non-null   object \n",
      " 10  T1_Srv_Ace        2640 non-null   float64\n",
      " 11  T1_Srv_Eff        2640 non-null   object \n",
      " 12  T1_Rec_Sum        2640 non-null   float64\n",
      " 13  T1_Rec_Err        2640 non-null   float64\n",
      " 14  T1_Rec_Pos        2640 non-null   object \n",
      " 15  T1_Rec_Perf       2640 non-null   object \n",
      " 16  T1_Att_Sum        2640 non-null   object \n",
      " 17  T1_Att_Err        2640 non-null   float64\n",
      " 18  T1_Att_Blk        2640 non-null   float64\n",
      " 19  T1_Att_Kill       2640 non-null   float64\n",
      " 20  T1_Att_Kill_Perc  2640 non-null   object \n",
      " 21  T1_Att_Eff        2640 non-null   object \n",
      " 22  T1_Blk_Sum        2640 non-null   float64\n",
      " 23  T1_Blk_As         2640 non-null   object \n",
      " 24  T2_Sum            2640 non-null   int64  \n",
      " 25  T2_BP             2640 non-null   int64  \n",
      " 26  T2_Ratio          2640 non-null   int64  \n",
      " 27  T2_Srv_Sum        2640 non-null   int64  \n",
      " 28  T2_Srv_Err        2640 non-null   object \n",
      " 29  T2_Srv_Ace        2640 non-null   int64  \n",
      " 30  T2_Srv_Eff        2640 non-null   object \n",
      " 31  T2_Rec_Sum        2640 non-null   int64  \n",
      " 32  T2_Rec_Err        2640 non-null   int64  \n",
      " 33  T2_Rec_Pos        2640 non-null   object \n",
      " 34  T2_Rec_Perf       2640 non-null   object \n",
      " 35  T2_Att_Sum        2640 non-null   object \n",
      " 36  T2_Att_Err        2640 non-null   int64  \n",
      " 37  T2_Att_Blk        2640 non-null   int64  \n",
      " 38  T2_Att_Kill       2640 non-null   int64  \n",
      " 39  T2_Att_Kill_Perc  2640 non-null   object \n",
      " 40  T2_Att_Eff        2640 non-null   object \n",
      " 41  T2_Blk_Sum        2640 non-null   int64  \n",
      " 42  T2_Blk_As         2640 non-null   object \n",
      "dtypes: float64(11), int64(13), object(19)\n",
      "memory usage: 907.5+ KB\n"
     ]
    }
   ],
   "source": [
    "df.info()"
   ],
   "metadata": {
    "collapsed": false
   }
  },
  {
   "cell_type": "code",
   "execution_count": 97,
   "outputs": [
    {
     "data": {
      "text/plain": "                Date              Team_1                  Team_2  T1_Score  \\\n0  01.10.2022, 14:45         AZS Olsztyn  ZAKSA Kędzierzyn-Koźle         1   \n1  30.09.2022, 17:30  Jastrzębski Węgiel            GKS Katowice         3   \n2  01.10.2022, 20:30         LUK  Lublin            Czarni Radom         2   \n3  02.10.2022, 14:45     Warta Zawiercie      PGE Skra Bełchatów         3   \n4  03.10.2022, 17:30  BBTS Bielsko-Biała            Cuprum Lubin         1   \n\n   T2_Score  T1_Sum  T1_BP  T1_Ratio  T1_Srv_Sum T1_Srv_Err  ...  T2_Rec_Pos  \\\n0         3    60.0   17.0      11.0        79.0         18  ...         45%   \n1         0    51.0   17.0      27.0        77.0         15  ...         50%   \n2         3    76.0   23.0      35.0       109.0         16  ...         47%   \n3         2    66.0   16.0      22.0        98.0         21  ...         32%   \n4         3    63.0   22.0      17.0       100.0         19  ...         45%   \n\n  T2_Rec_Perf  T2_Att_Sum  T2_Att_Err T2_Att_Blk T2_Att_Kill T2_Att_Kill_Perc  \\\n0         26%          88           7          7          45              51%   \n1         20%          91           8          4          43              47%   \n2         18%         128          10         10          63              49%   \n3          9%         102           9          9          56              54%   \n4         22%         109           7          8          58              53%   \n\n   T2_Att_Eff  T2_Blk_Sum  T2_Blk_As  \n0         35%          14         11  \n1         34%           1         17  \n2         33%          10         13  \n3         37%           7         14  \n4         39%          10         10  \n\n[5 rows x 43 columns]",
      "text/html": "<div>\n<style scoped>\n    .dataframe tbody tr th:only-of-type {\n        vertical-align: middle;\n    }\n\n    .dataframe tbody tr th {\n        vertical-align: top;\n    }\n\n    .dataframe thead th {\n        text-align: right;\n    }\n</style>\n<table border=\"1\" class=\"dataframe\">\n  <thead>\n    <tr style=\"text-align: right;\">\n      <th></th>\n      <th>Date</th>\n      <th>Team_1</th>\n      <th>Team_2</th>\n      <th>T1_Score</th>\n      <th>T2_Score</th>\n      <th>T1_Sum</th>\n      <th>T1_BP</th>\n      <th>T1_Ratio</th>\n      <th>T1_Srv_Sum</th>\n      <th>T1_Srv_Err</th>\n      <th>...</th>\n      <th>T2_Rec_Pos</th>\n      <th>T2_Rec_Perf</th>\n      <th>T2_Att_Sum</th>\n      <th>T2_Att_Err</th>\n      <th>T2_Att_Blk</th>\n      <th>T2_Att_Kill</th>\n      <th>T2_Att_Kill_Perc</th>\n      <th>T2_Att_Eff</th>\n      <th>T2_Blk_Sum</th>\n      <th>T2_Blk_As</th>\n    </tr>\n  </thead>\n  <tbody>\n    <tr>\n      <th>0</th>\n      <td>01.10.2022, 14:45</td>\n      <td>AZS Olsztyn</td>\n      <td>ZAKSA Kędzierzyn-Koźle</td>\n      <td>1</td>\n      <td>3</td>\n      <td>60.0</td>\n      <td>17.0</td>\n      <td>11.0</td>\n      <td>79.0</td>\n      <td>18</td>\n      <td>...</td>\n      <td>45%</td>\n      <td>26%</td>\n      <td>88</td>\n      <td>7</td>\n      <td>7</td>\n      <td>45</td>\n      <td>51%</td>\n      <td>35%</td>\n      <td>14</td>\n      <td>11</td>\n    </tr>\n    <tr>\n      <th>1</th>\n      <td>30.09.2022, 17:30</td>\n      <td>Jastrzębski Węgiel</td>\n      <td>GKS Katowice</td>\n      <td>3</td>\n      <td>0</td>\n      <td>51.0</td>\n      <td>17.0</td>\n      <td>27.0</td>\n      <td>77.0</td>\n      <td>15</td>\n      <td>...</td>\n      <td>50%</td>\n      <td>20%</td>\n      <td>91</td>\n      <td>8</td>\n      <td>4</td>\n      <td>43</td>\n      <td>47%</td>\n      <td>34%</td>\n      <td>1</td>\n      <td>17</td>\n    </tr>\n    <tr>\n      <th>2</th>\n      <td>01.10.2022, 20:30</td>\n      <td>LUK  Lublin</td>\n      <td>Czarni Radom</td>\n      <td>2</td>\n      <td>3</td>\n      <td>76.0</td>\n      <td>23.0</td>\n      <td>35.0</td>\n      <td>109.0</td>\n      <td>16</td>\n      <td>...</td>\n      <td>47%</td>\n      <td>18%</td>\n      <td>128</td>\n      <td>10</td>\n      <td>10</td>\n      <td>63</td>\n      <td>49%</td>\n      <td>33%</td>\n      <td>10</td>\n      <td>13</td>\n    </tr>\n    <tr>\n      <th>3</th>\n      <td>02.10.2022, 14:45</td>\n      <td>Warta Zawiercie</td>\n      <td>PGE Skra Bełchatów</td>\n      <td>3</td>\n      <td>2</td>\n      <td>66.0</td>\n      <td>16.0</td>\n      <td>22.0</td>\n      <td>98.0</td>\n      <td>21</td>\n      <td>...</td>\n      <td>32%</td>\n      <td>9%</td>\n      <td>102</td>\n      <td>9</td>\n      <td>9</td>\n      <td>56</td>\n      <td>54%</td>\n      <td>37%</td>\n      <td>7</td>\n      <td>14</td>\n    </tr>\n    <tr>\n      <th>4</th>\n      <td>03.10.2022, 17:30</td>\n      <td>BBTS Bielsko-Biała</td>\n      <td>Cuprum Lubin</td>\n      <td>1</td>\n      <td>3</td>\n      <td>63.0</td>\n      <td>22.0</td>\n      <td>17.0</td>\n      <td>100.0</td>\n      <td>19</td>\n      <td>...</td>\n      <td>45%</td>\n      <td>22%</td>\n      <td>109</td>\n      <td>7</td>\n      <td>8</td>\n      <td>58</td>\n      <td>53%</td>\n      <td>39%</td>\n      <td>10</td>\n      <td>10</td>\n    </tr>\n  </tbody>\n</table>\n<p>5 rows × 43 columns</p>\n</div>"
     },
     "execution_count": 97,
     "metadata": {},
     "output_type": "execute_result"
    }
   ],
   "source": [
    "df.head()"
   ],
   "metadata": {
    "collapsed": false
   }
  },
  {
   "cell_type": "code",
   "execution_count": 98,
   "outputs": [],
   "source": [
    "#df['Date'] = pd.to_datetime(df['Date'])"
   ],
   "metadata": {
    "collapsed": false
   }
  },
  {
   "cell_type": "code",
   "execution_count": 99,
   "outputs": [],
   "source": [
    "#df.head()"
   ],
   "metadata": {
    "collapsed": false
   }
  },
  {
   "cell_type": "code",
   "execution_count": 100,
   "outputs": [
    {
     "data": {
      "text/plain": "Date                 object\nTeam_1               object\nTeam_2               object\nT1_Score              int64\nT2_Score              int64\nT1_Sum              float64\nT1_BP               float64\nT1_Ratio            float64\nT1_Srv_Sum          float64\nT1_Srv_Err           object\nT1_Srv_Ace          float64\nT1_Srv_Eff           object\nT1_Rec_Sum          float64\nT1_Rec_Err          float64\nT1_Rec_Pos           object\nT1_Rec_Perf          object\nT1_Att_Sum           object\nT1_Att_Err          float64\nT1_Att_Blk          float64\nT1_Att_Kill         float64\nT1_Att_Kill_Perc     object\nT1_Att_Eff           object\nT1_Blk_Sum          float64\nT1_Blk_As            object\nT2_Sum                int64\nT2_BP                 int64\nT2_Ratio              int64\nT2_Srv_Sum            int64\nT2_Srv_Err           object\nT2_Srv_Ace            int64\nT2_Srv_Eff           object\nT2_Rec_Sum            int64\nT2_Rec_Err            int64\nT2_Rec_Pos           object\nT2_Rec_Perf          object\nT2_Att_Sum           object\nT2_Att_Err            int64\nT2_Att_Blk            int64\nT2_Att_Kill           int64\nT2_Att_Kill_Perc     object\nT2_Att_Eff           object\nT2_Blk_Sum            int64\nT2_Blk_As            object\ndtype: object"
     },
     "execution_count": 100,
     "metadata": {},
     "output_type": "execute_result"
    }
   ],
   "source": [
    "df.dtypes"
   ],
   "metadata": {
    "collapsed": false
   }
  },
  {
   "cell_type": "code",
   "execution_count": 101,
   "outputs": [],
   "source": [
    "df['Winner'] = df.apply(lambda row: 0 if row.T1_Score > row['T2_Score'] else 1, axis=1)"
   ],
   "metadata": {
    "collapsed": false
   }
  },
  {
   "cell_type": "code",
   "execution_count": 102,
   "outputs": [
    {
     "data": {
      "text/plain": "                Date              Team_1                  Team_2  T1_Score  \\\n0  01.10.2022, 14:45         AZS Olsztyn  ZAKSA Kędzierzyn-Koźle         1   \n1  30.09.2022, 17:30  Jastrzębski Węgiel            GKS Katowice         3   \n2  01.10.2022, 20:30         LUK  Lublin            Czarni Radom         2   \n3  02.10.2022, 14:45     Warta Zawiercie      PGE Skra Bełchatów         3   \n4  03.10.2022, 17:30  BBTS Bielsko-Biała            Cuprum Lubin         1   \n\n   T2_Score  T1_Sum  T1_BP  T1_Ratio  T1_Srv_Sum T1_Srv_Err  ...  T2_Rec_Perf  \\\n0         3    60.0   17.0      11.0        79.0         18  ...          26%   \n1         0    51.0   17.0      27.0        77.0         15  ...          20%   \n2         3    76.0   23.0      35.0       109.0         16  ...          18%   \n3         2    66.0   16.0      22.0        98.0         21  ...           9%   \n4         3    63.0   22.0      17.0       100.0         19  ...          22%   \n\n  T2_Att_Sum  T2_Att_Err  T2_Att_Blk T2_Att_Kill T2_Att_Kill_Perc T2_Att_Eff  \\\n0         88           7           7          45              51%        35%   \n1         91           8           4          43              47%        34%   \n2        128          10          10          63              49%        33%   \n3        102           9           9          56              54%        37%   \n4        109           7           8          58              53%        39%   \n\n   T2_Blk_Sum  T2_Blk_As  Winner  \n0          14         11       1  \n1           1         17       0  \n2          10         13       1  \n3           7         14       0  \n4          10         10       1  \n\n[5 rows x 44 columns]",
      "text/html": "<div>\n<style scoped>\n    .dataframe tbody tr th:only-of-type {\n        vertical-align: middle;\n    }\n\n    .dataframe tbody tr th {\n        vertical-align: top;\n    }\n\n    .dataframe thead th {\n        text-align: right;\n    }\n</style>\n<table border=\"1\" class=\"dataframe\">\n  <thead>\n    <tr style=\"text-align: right;\">\n      <th></th>\n      <th>Date</th>\n      <th>Team_1</th>\n      <th>Team_2</th>\n      <th>T1_Score</th>\n      <th>T2_Score</th>\n      <th>T1_Sum</th>\n      <th>T1_BP</th>\n      <th>T1_Ratio</th>\n      <th>T1_Srv_Sum</th>\n      <th>T1_Srv_Err</th>\n      <th>...</th>\n      <th>T2_Rec_Perf</th>\n      <th>T2_Att_Sum</th>\n      <th>T2_Att_Err</th>\n      <th>T2_Att_Blk</th>\n      <th>T2_Att_Kill</th>\n      <th>T2_Att_Kill_Perc</th>\n      <th>T2_Att_Eff</th>\n      <th>T2_Blk_Sum</th>\n      <th>T2_Blk_As</th>\n      <th>Winner</th>\n    </tr>\n  </thead>\n  <tbody>\n    <tr>\n      <th>0</th>\n      <td>01.10.2022, 14:45</td>\n      <td>AZS Olsztyn</td>\n      <td>ZAKSA Kędzierzyn-Koźle</td>\n      <td>1</td>\n      <td>3</td>\n      <td>60.0</td>\n      <td>17.0</td>\n      <td>11.0</td>\n      <td>79.0</td>\n      <td>18</td>\n      <td>...</td>\n      <td>26%</td>\n      <td>88</td>\n      <td>7</td>\n      <td>7</td>\n      <td>45</td>\n      <td>51%</td>\n      <td>35%</td>\n      <td>14</td>\n      <td>11</td>\n      <td>1</td>\n    </tr>\n    <tr>\n      <th>1</th>\n      <td>30.09.2022, 17:30</td>\n      <td>Jastrzębski Węgiel</td>\n      <td>GKS Katowice</td>\n      <td>3</td>\n      <td>0</td>\n      <td>51.0</td>\n      <td>17.0</td>\n      <td>27.0</td>\n      <td>77.0</td>\n      <td>15</td>\n      <td>...</td>\n      <td>20%</td>\n      <td>91</td>\n      <td>8</td>\n      <td>4</td>\n      <td>43</td>\n      <td>47%</td>\n      <td>34%</td>\n      <td>1</td>\n      <td>17</td>\n      <td>0</td>\n    </tr>\n    <tr>\n      <th>2</th>\n      <td>01.10.2022, 20:30</td>\n      <td>LUK  Lublin</td>\n      <td>Czarni Radom</td>\n      <td>2</td>\n      <td>3</td>\n      <td>76.0</td>\n      <td>23.0</td>\n      <td>35.0</td>\n      <td>109.0</td>\n      <td>16</td>\n      <td>...</td>\n      <td>18%</td>\n      <td>128</td>\n      <td>10</td>\n      <td>10</td>\n      <td>63</td>\n      <td>49%</td>\n      <td>33%</td>\n      <td>10</td>\n      <td>13</td>\n      <td>1</td>\n    </tr>\n    <tr>\n      <th>3</th>\n      <td>02.10.2022, 14:45</td>\n      <td>Warta Zawiercie</td>\n      <td>PGE Skra Bełchatów</td>\n      <td>3</td>\n      <td>2</td>\n      <td>66.0</td>\n      <td>16.0</td>\n      <td>22.0</td>\n      <td>98.0</td>\n      <td>21</td>\n      <td>...</td>\n      <td>9%</td>\n      <td>102</td>\n      <td>9</td>\n      <td>9</td>\n      <td>56</td>\n      <td>54%</td>\n      <td>37%</td>\n      <td>7</td>\n      <td>14</td>\n      <td>0</td>\n    </tr>\n    <tr>\n      <th>4</th>\n      <td>03.10.2022, 17:30</td>\n      <td>BBTS Bielsko-Biała</td>\n      <td>Cuprum Lubin</td>\n      <td>1</td>\n      <td>3</td>\n      <td>63.0</td>\n      <td>22.0</td>\n      <td>17.0</td>\n      <td>100.0</td>\n      <td>19</td>\n      <td>...</td>\n      <td>22%</td>\n      <td>109</td>\n      <td>7</td>\n      <td>8</td>\n      <td>58</td>\n      <td>53%</td>\n      <td>39%</td>\n      <td>10</td>\n      <td>10</td>\n      <td>1</td>\n    </tr>\n  </tbody>\n</table>\n<p>5 rows × 44 columns</p>\n</div>"
     },
     "execution_count": 102,
     "metadata": {},
     "output_type": "execute_result"
    }
   ],
   "source": [
    "df.head()"
   ],
   "metadata": {
    "collapsed": false
   }
  },
  {
   "cell_type": "code",
   "execution_count": 103,
   "outputs": [],
   "source": [
    "df.to_csv('Mens-Volleyball-PlusLiga-2008-2023.csv', index=False)"
   ],
   "metadata": {
    "collapsed": false
   }
  }
 ],
 "metadata": {
  "kernelspec": {
   "display_name": "Python 3",
   "language": "python",
   "name": "python3"
  },
  "language_info": {
   "codemirror_mode": {
    "name": "ipython",
    "version": 2
   },
   "file_extension": ".py",
   "mimetype": "text/x-python",
   "name": "python",
   "nbconvert_exporter": "python",
   "pygments_lexer": "ipython2",
   "version": "2.7.6"
  }
 },
 "nbformat": 4,
 "nbformat_minor": 0
}
